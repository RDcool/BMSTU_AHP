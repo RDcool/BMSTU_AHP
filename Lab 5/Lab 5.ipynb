{
  "nbformat": 4,
  "nbformat_minor": 0,
  "metadata": {
    "colab": {
      "provenance": []
    },
    "kernelspec": {
      "name": "ir",
      "display_name": "R"
    },
    "language_info": {
      "name": "R"
    }
  },
  "cells": [
    {
      "cell_type": "markdown",
      "source": [
        "# Лабораторная работа 5. Рекомендации по формализации и расчетам характеристик подсистем КИС в виде разомкнутых или замкнутых стохастических моделей\n",
        "\n",
        "## Вариант 2\n",
        "\n",
        "##### Выполнил: Борисочкин М. И. РТ5-81Б"
      ],
      "metadata": {
        "id": "a4ulkpFjxMkI"
      }
    },
    {
      "cell_type": "code",
      "source": [
        "# Генерация начальных условий\n",
        "Variant <- 2\n",
        "set.seed(Variant)\n",
        "\n",
        "m <- sample(c(4:18),1)\n",
        "mu <- runif(1)\n",
        "lambda <- runif(1)\n",
        "if (lambda > mu)\n",
        "{\n",
        "  current <- lambda; \n",
        "   lambda <- mu; \n",
        "   mu <- current\n",
        "}\n",
        "\n",
        "gamma <- runif(1)\n",
        "nu <- runif(1)\n",
        "if (gamma < nu)\n",
        "{\n",
        "  current <- nu; \n",
        "  nu <- gamma; \n",
        "  gamma <- current\n",
        "}\n",
        "\n",
        "if (sample(c(0:1),1)) {k <- sample(c(4:7),1)} else {k <- \"inf\"}\n",
        "\n",
        "t <- runif(1)\n",
        "View(data.frame(lambda, mu, nu, gamma, k, m, t))"
      ],
      "metadata": {
        "colab": {
          "base_uri": "https://localhost:8080/",
          "height": 129
        },
        "id": "a1t6aqGLxMBI",
        "outputId": "8579b6c9-be88-4129-c74d-8740b3f004af"
      },
      "execution_count": null,
      "outputs": [
        {
          "output_type": "display_data",
          "data": {
            "text/plain": [
              "  lambda    mu       nu        gamma     k m t        \n",
              "1 0.5733263 0.702374 0.1680519 0.9438393 4 8 0.8334488"
            ],
            "text/html": [
              "<table class=\"dataframe\">\n",
              "<caption>A data.frame: 1 × 7</caption>\n",
              "<thead>\n",
              "\t<tr><th scope=col>lambda</th><th scope=col>mu</th><th scope=col>nu</th><th scope=col>gamma</th><th scope=col>k</th><th scope=col>m</th><th scope=col>t</th></tr>\n",
              "\t<tr><th scope=col>&lt;dbl&gt;</th><th scope=col>&lt;dbl&gt;</th><th scope=col>&lt;dbl&gt;</th><th scope=col>&lt;dbl&gt;</th><th scope=col>&lt;int&gt;</th><th scope=col>&lt;int&gt;</th><th scope=col>&lt;dbl&gt;</th></tr>\n",
              "</thead>\n",
              "<tbody>\n",
              "\t<tr><td>0.5733263</td><td>0.702374</td><td>0.1680519</td><td>0.9438393</td><td>4</td><td>8</td><td>0.8334488</td></tr>\n",
              "</tbody>\n",
              "</table>\n"
            ],
            "text/markdown": "\nA data.frame: 1 × 7\n\n| lambda &lt;dbl&gt; | mu &lt;dbl&gt; | nu &lt;dbl&gt; | gamma &lt;dbl&gt; | k &lt;int&gt; | m &lt;int&gt; | t &lt;dbl&gt; |\n|---|---|---|---|---|---|---|\n| 0.5733263 | 0.702374 | 0.1680519 | 0.9438393 | 4 | 8 | 0.8334488 |\n\n",
            "text/latex": "A data.frame: 1 × 7\n\\begin{tabular}{lllllll}\n lambda & mu & nu & gamma & k & m & t\\\\\n <dbl> & <dbl> & <dbl> & <dbl> & <int> & <int> & <dbl>\\\\\n\\hline\n\t 0.5733263 & 0.702374 & 0.1680519 & 0.9438393 & 4 & 8 & 0.8334488\\\\\n\\end{tabular}\n"
          },
          "metadata": {}
        }
      ]
    },
    {
      "cell_type": "markdown",
      "source": [
        "### Теоритическая часть"
      ],
      "metadata": {
        "id": "H8Xp6TdCzyLv"
      }
    },
    {
      "cell_type": "markdown",
      "source": [
        "Граф состояний:\n",
        "\n",
        "![img](https://raw.githubusercontent.com/RDcool/BMSTU_AHP/main/Lab%204/State%20Graph.svg)"
      ],
      "metadata": {
        "id": "ngzGpF8b5_HJ"
      }
    },
    {
      "cell_type": "markdown",
      "source": [
        "$S_0$ — Канал в рабочем состоянии, свободен;\n",
        "\n",
        "$S_1$ — Канал в рабочем состоянии, обрабатывается заявка клиента, очереди нет;\n",
        "\n",
        "$S_2$ — Канал в рабочем состоянии, обрабатывается заявка клиента, в очереди один человек;\n",
        "\n",
        "$S_3$ — Канал в рабочем состоянии, обрабатывается заявка клиента, в очереди два человека;\n",
        "\n",
        "$S_4$ — Канал в рабочем состоянии, обрабатывается заявка клиента, в очереди три человека;\n",
        "\n",
        "$S_5$ — Канал вышел из строя, очереди нет;\n",
        "\n",
        "$S_6$ — Канал вышел из строя, в очереди один человек;\n",
        "\n",
        "$S_7$ — Канал вышел из строя, в очереди два человека;\n",
        "\n",
        "$S_8$ — Канал вышел из строя, в очереди три человека;\n",
        "\n",
        "$S_9$ — Канал вышел из строя, в очереди четыре человека."
      ],
      "metadata": {
        "id": "UXwru-8wnfGy"
      }
    },
    {
      "cell_type": "markdown",
      "source": [
        "Уравнения Колмогорова:\n",
        "\n",
        "$\n",
        "\\begin{cases} \n",
        "\\frac{dP_0(t)}{dt} = μP_1(t) - 4λP_0(t) + γP_5(t) - νP_0(t) \\\\\n",
        "\\frac{dP_1(t)}{dt} = 4λP_0(t) - μP_1(t) + μP_2(t) - 3λP_1(t) + γP_6(t) - νP_1(t) \\\\\n",
        "\\frac{dP_2(t)}{dt} = 3λP_1(t) - μP_2(t) + μP_3(t) - 2λP_2(t) + γP_7(t) - νP_2(t) \\\\\n",
        "\\frac{dP_3(t)}{dt} = 2λP_2(t) - μP_3(t) + μP_4(t) - λP_3(t) + γP_8(t) - νP_3(t) \\\\\n",
        "\\frac{dP_4(t)}{dt} = λP_3(t) - μP_4(t) + γP_9(t) - νP_4(t) \\\\\n",
        "\\frac{dP_5(t)}{dt} = νP_0(t) - γP_5(t) - 4λP_5(t)\\\\\n",
        "\\frac{dP_6(t)}{dt} = νP_1(t) - γP_6(t) + 4λP_5(t) - 3λP_6(t)\\\\\n",
        "\\frac{dP_7(t)}{dt} = νP_2(t) - γP_7(t) + 3λP_6(t) - 2λP_7(t)\\\\\n",
        "\\frac{dP_8(t)}{dt} = νP_3(t) - γP_8(t) + 2λP_7(t) - λP_8(t)\\\\\n",
        "\\frac{dP_9(t)}{dt} = νP_4(t) - γP_9(t) + λP_8(t)\\\\\n",
        "\\end{cases}\n",
        "$"
      ],
      "metadata": {
        "id": "PhJxOYn26DHY"
      }
    },
    {
      "cell_type": "markdown",
      "source": [
        "Заменим второе уравнение на условие нормировки:\n",
        "$\n",
        "\\begin{cases} \n",
        "\\frac{dP_0(t)}{dt} = μP_1(t) - 4λP_0(t) + γP_5(t) - νP_0(t) \\\\\n",
        "1 = P_1(t) + P_2(t) + P_3(t) + P_4(t) + P_5(t) + P_6(t) + P_7(t) + P_8(t) + P_9(t)  \\\\\n",
        "\\frac{dP_2(t)}{dt} = 3λP_1(t) - μP_2(t) + μP_3(t) - 2λP_2(t) + γP_7(t) - νP_2(t) \\\\\n",
        "\\frac{dP_3(t)}{dt} = 2λP_2(t) - μP_3(t) + μP_4(t) - λP_3(t) + γP_8(t) - νP_3(t) \\\\\n",
        "\\frac{dP_4(t)}{dt} = λP_3(t) - μP_4(t) + γP_9(t) - νP_4(t) \\\\\n",
        "\\frac{dP_5(t)}{dt} = νP_0(t) - γP_5(t) - 4λP_5(t)\\\\\n",
        "\\frac{dP_6(t)}{dt} = νP_1(t) - γP_6(t) + 4λP_5(t) - 3λP_6(t)\\\\\n",
        "\\frac{dP_7(t)}{dt} = νP_2(t) - γP_7(t) + 3λP_6(t) - 2λP_7(t)\\\\\n",
        "\\frac{dP_8(t)}{dt} = νP_3(t) - γP_8(t) + 2λP_7(t) - λP_8(t)\\\\\n",
        "\\frac{dP_9(t)}{dt} = νP_4(t) - γP_9(t) + λP_8(t)\\\\\n",
        "\\end{cases}\n",
        "$"
      ],
      "metadata": {
        "id": "6wYYODzNJgG5"
      }
    },
    {
      "cell_type": "markdown",
      "source": [
        "Для решения данной системы уравнений (а если точнее нахождения вероятностей для заданного t) будем использовать библиотеку [deSolve](https://cran.r-project.org/web/packages/deSolve/deSolve.pdf)"
      ],
      "metadata": {
        "id": "PVrwAk6Q7TUd"
      }
    },
    {
      "cell_type": "code",
      "source": [
        "# Установка библиотеки\n",
        "install.packages(\"deSolve\")"
      ],
      "metadata": {
        "colab": {
          "base_uri": "https://localhost:8080/"
        },
        "id": "tiTrefRLkEdE",
        "outputId": "36031e4d-ea76-46b1-9a7b-1155763a2e9e"
      },
      "execution_count": null,
      "outputs": [
        {
          "output_type": "stream",
          "name": "stderr",
          "text": [
            "Installing package into ‘/usr/local/lib/R/site-library’\n",
            "(as ‘lib’ is unspecified)\n",
            "\n"
          ]
        }
      ]
    },
    {
      "cell_type": "code",
      "source": [
        "# Подключение библиотеки\n",
        "library(\"deSolve\")"
      ],
      "metadata": {
        "id": "WszSJDYikVgk"
      },
      "execution_count": null,
      "outputs": []
    },
    {
      "cell_type": "code",
      "source": [
        "# Описание системы уравнений\n",
        "Kolmogorovs <- function(t, state, parameters) {\n",
        "  with(as.list(c(state, parameters)), {\n",
        "    dP0 <- mu*P1 - 4*lambda*P0 + gamma*P5 - nu*P0\n",
        "    dP1 <- 4*lambda*P0 - mu*P1 + mu*P2 - 3*lambda*P1 + gamma*P6 - nu*P1\n",
        "    dP2 <- 3*lambda*P1 - mu*P2 + mu*P3 - 2*lambda*P2 + gamma*P7 - nu*P2\n",
        "    dP3 <- 2*lambda*P2 - mu*P3 + mu*P4 - lambda*P3 + gamma*P8 - nu*P3\n",
        "    dP4 <- lambda*P3 - mu*P4 + gamma*P9 - nu*P4\n",
        "    dP5 <- nu*P0 - gamma*P5 - 4*lambda*P5\n",
        "    dP6 <- nu*P1 - gamma*P6 + 4*lambda*P5 - 3*lambda*P6\n",
        "    dP7 <- nu*P2 - gamma*P7 + 3*lambda*P6 - 2*lambda*P7\n",
        "    dP8 <- nu*P3 - gamma*P8 + 2*lambda*P7 - lambda*P8\n",
        "    dP9 <- nu*P4 - gamma*P9 + lambda*P8\n",
        "    condNorm <- P0 + P1 + P2 + P3 + P4 + P5 + P6 + P7 + P8 + P9 \n",
        "\n",
        "    list(c(dP0, dP1, dP2, dP3, dP4, dP5, dP6, dP7, dP8, dP9), condNorm = 1)\n",
        "  })\n",
        "}"
      ],
      "metadata": {
        "id": "xbNySLIfkZiG"
      },
      "execution_count": null,
      "outputs": []
    },
    {
      "cell_type": "code",
      "source": [
        "# Задание начального состояния и моментов времени (параметры определены ранее)\n",
        "state <- c(P0 = 1, P1 = 0, P2 = 0, P3 = 0, P4 = 0, P5 = 0, P6 = 0, P7 = 0, P8 = 0, P9 = 0)\n",
        "times <- seq(0, 1, by = 0.0000001)"
      ],
      "metadata": {
        "id": "8uxqJQDjn8Wt"
      },
      "execution_count": null,
      "outputs": []
    },
    {
      "cell_type": "code",
      "source": [
        "# Получение результатов\n",
        "out <- ode(y = state, times = times, func = Kolmogorovs, parms = NULL)"
      ],
      "metadata": {
        "id": "EeV5lNgxo1c9"
      },
      "execution_count": null,
      "outputs": []
    },
    {
      "cell_type": "code",
      "source": [
        "# Вывод вероятностей в момент времени t\n",
        "outDF <- as.data.frame(out[, 1:11])\n",
        "rownames(outDF) <- outDF$time\n",
        "\n",
        "Ptau <- outDF[outDF$time == round(t, 7), 2:11]\n",
        "Ptau"
      ],
      "metadata": {
        "colab": {
          "base_uri": "https://localhost:8080/",
          "height": 129
        },
        "id": "IaUWWapcy9-l",
        "outputId": "f7990aff-56ef-430b-803b-e8b869cf0277"
      },
      "execution_count": null,
      "outputs": [
        {
          "output_type": "display_data",
          "data": {
            "text/html": [
              "<table class=\"dataframe\">\n",
              "<caption>A data.frame: 1 × 10</caption>\n",
              "<thead>\n",
              "\t<tr><th></th><th scope=col>P0</th><th scope=col>P1</th><th scope=col>P2</th><th scope=col>P3</th><th scope=col>P4</th><th scope=col>P5</th><th scope=col>P6</th><th scope=col>P7</th><th scope=col>P8</th><th scope=col>P9</th></tr>\n",
              "\t<tr><th></th><th scope=col>&lt;dbl&gt;</th><th scope=col>&lt;dbl&gt;</th><th scope=col>&lt;dbl&gt;</th><th scope=col>&lt;dbl&gt;</th><th scope=col>&lt;dbl&gt;</th><th scope=col>&lt;dbl&gt;</th><th scope=col>&lt;dbl&gt;</th><th scope=col>&lt;dbl&gt;</th><th scope=col>&lt;dbl&gt;</th><th scope=col>&lt;dbl&gt;</th></tr>\n",
              "</thead>\n",
              "<tbody>\n",
              "\t<tr><th scope=row>0.8334488</th><td>0.2189755</td><td>0.3363448</td><td>0.2500563</td><td>0.09049219</td><td>0.01282055</td><td>0.01667962</td><td>0.03388733</td><td>0.02825842</td><td>0.01088262</td><td>0.001602681</td></tr>\n",
              "</tbody>\n",
              "</table>\n"
            ],
            "text/markdown": "\nA data.frame: 1 × 10\n\n| <!--/--> | P0 &lt;dbl&gt; | P1 &lt;dbl&gt; | P2 &lt;dbl&gt; | P3 &lt;dbl&gt; | P4 &lt;dbl&gt; | P5 &lt;dbl&gt; | P6 &lt;dbl&gt; | P7 &lt;dbl&gt; | P8 &lt;dbl&gt; | P9 &lt;dbl&gt; |\n|---|---|---|---|---|---|---|---|---|---|---|\n| 0.8334488 | 0.2189755 | 0.3363448 | 0.2500563 | 0.09049219 | 0.01282055 | 0.01667962 | 0.03388733 | 0.02825842 | 0.01088262 | 0.001602681 |\n\n",
            "text/latex": "A data.frame: 1 × 10\n\\begin{tabular}{r|llllllllll}\n  & P0 & P1 & P2 & P3 & P4 & P5 & P6 & P7 & P8 & P9\\\\\n  & <dbl> & <dbl> & <dbl> & <dbl> & <dbl> & <dbl> & <dbl> & <dbl> & <dbl> & <dbl>\\\\\n\\hline\n\t0.8334488 & 0.2189755 & 0.3363448 & 0.2500563 & 0.09049219 & 0.01282055 & 0.01667962 & 0.03388733 & 0.02825842 & 0.01088262 & 0.001602681\\\\\n\\end{tabular}\n",
            "text/plain": [
              "          P0        P1        P2        P3         P4         P5        \n",
              "0.8334488 0.2189755 0.3363448 0.2500563 0.09049219 0.01282055 0.01667962\n",
              "          P6         P7         P8         P9         \n",
              "0.8334488 0.03388733 0.02825842 0.01088262 0.001602681"
            ]
          },
          "metadata": {}
        }
      ]
    },
    {
      "cell_type": "code",
      "source": [
        "# Сумма вероятностей при заданном моменте t\n",
        "sum(Ptau)"
      ],
      "metadata": {
        "colab": {
          "base_uri": "https://localhost:8080/",
          "height": 34
        },
        "id": "28RtJJNJ2UpO",
        "outputId": "7ca0ad0a-0a27-4281-e27f-8b8ee9e0705e"
      },
      "execution_count": null,
      "outputs": [
        {
          "output_type": "display_data",
          "data": {
            "text/html": [
              "0.999999999999945"
            ],
            "text/markdown": "0.999999999999945",
            "text/latex": "0.999999999999945",
            "text/plain": [
              "[1] 1"
            ]
          },
          "metadata": {}
        }
      ]
    },
    {
      "cell_type": "markdown",
      "source": [
        "Для расчёта значений вероятностей при $t → ∞$  занулим призводные:\n",
        "\n",
        "$\n",
        "\\begin{cases} \n",
        "μP_1(t) + γP_5(t) - (4λ + ν)P_0(t) = 0 \\\\\n",
        "3λP_1(t) - (μ + 2λ + ν)P_2(t) + μP_3(t) + γP_7(t) = 0 \\\\\n",
        "2λP_2(t) - (μ + λ + ν)P_3(t) + μP_4(t) + γP_8(t) = 0 \\\\\n",
        "λP_3(t) - (μ + ν)P_4(t) + γP_9(t) = 0 \\\\\n",
        "νP_0(t) - (γ + 4λ)P_5(t) = 0\\\\\n",
        "νP_1(t) - (γ + 3λ)P_6(t) + 4λP_5(t) = 0\\\\\n",
        "νP_2(t) - (γ + 2λ)P_7(t) + 3λP_6(t) = 0\\\\\n",
        "νP_3(t) - (γ + λ)P_8(t) + 2λP_7(t) = 0\\\\\n",
        "νP_4(t) - γP_9(t) + λP_8(t) = 0\\\\\n",
        "P_1(t) + P_2(t) + P_3(t) + P_4(t) + P_5(t) + P_6(t) + P_7(t) + P_8(t) + P_9(t) = 1 \\\\\n",
        "\\end{cases}\n",
        "$"
      ],
      "metadata": {
        "id": "xWl6NEbi_MCE"
      }
    },
    {
      "cell_type": "markdown",
      "source": [
        "Для решения данной системы уравнений воспользуемся функцией solve из R"
      ],
      "metadata": {
        "id": "lpx1xxqrBNBl"
      }
    },
    {
      "cell_type": "code",
      "source": [
        " # Матрица коэффициентов\n",
        "A <- matrix(c( -(4*lambda + nu), mu, 0, 0, 0, gamma, 0, 0, 0, 0,\n",
        "            0, 3*lambda, -(mu + 2*lambda + nu), mu, 0, 0, 0, gamma, 0, 0,\n",
        "            0, 0, 2*lambda, -(mu + lambda + nu), mu, 0, 0, 0, gamma, 0,\n",
        "            0, 0, 0, lambda, -(mu + nu), 0, 0, 0, 0, nu,\n",
        "            nu, 0, 0, 0, 0, -(gamma +4*lambda),0, 0, 0, 0,\n",
        "            0, nu, 0, 0, 0, 4*lambda, -(gamma + 3*lambda), 0, 0, 0,\n",
        "            0, 0, nu, 0, 0, 0, 3*lambda, -(gamma + 2*lambda), 0, 0,\n",
        "            0, 0, 0, nu, 0, 0, 0, 2*lambda, -(gamma + lambda), 0,\n",
        "            0, 0, 0, 0, nu, 0, 0, 0, lambda, -gamma,\n",
        "            1, 1, 1, 1, 1, 1, 1, 1, 1, 1), nrow = 10, byrow = TRUE)\n",
        "\n",
        "# Вектор свободных членов\n",
        "B <- c(rep(0, 9), 1)\n",
        "\n",
        "# Решение уравнения\n",
        "solInf <- solve(A, B)\n",
        "\n",
        "# Формирование ответа \n",
        "solInfDF <- as.data.frame(solInf)\n",
        "solInfDF <- t(solInfDF)\n",
        "colnames(solInfDF) <- c(\"P0\", \"P1\", \"P2\", \"P3\", \"P4\", \"P5\", \"P6\", \"P7\", \"P8\", \"P9\")\n",
        "rownames(solInfDF) <- \"\"\n",
        "solInfDF"
      ],
      "metadata": {
        "colab": {
          "base_uri": "https://localhost:8080/",
          "height": 98
        },
        "id": "UuHknX-OBZMI",
        "outputId": "eae3c4f3-133d-4ccf-ebbb-ef4283c472f9"
      },
      "execution_count": null,
      "outputs": [
        {
          "output_type": "display_data",
          "data": {
            "text/html": [
              "<table class=\"dataframe\">\n",
              "<caption>A matrix: 1 × 10 of type dbl</caption>\n",
              "<thead>\n",
              "\t<tr><th></th><th scope=col>P0</th><th scope=col>P1</th><th scope=col>P2</th><th scope=col>P3</th><th scope=col>P4</th><th scope=col>P5</th><th scope=col>P6</th><th scope=col>P7</th><th scope=col>P8</th><th scope=col>P9</th></tr>\n",
              "</thead>\n",
              "<tbody>\n",
              "\t<tr><th scope=row></th><td>0.0309372</td><td>0.1062563</td><td>0.2050391</td><td>0.297541</td><td>0.2090858</td><td>0.001606062</td><td>0.008086047</td><td>0.02313573</td><td>0.05044339</td><td>0.06786938</td></tr>\n",
              "</tbody>\n",
              "</table>\n"
            ],
            "text/markdown": "\nA matrix: 1 × 10 of type dbl\n\n| <!--/--> | P0 | P1 | P2 | P3 | P4 | P5 | P6 | P7 | P8 | P9 |\n|---|---|---|---|---|---|---|---|---|---|---|\n| <!----> | 0.0309372 | 0.1062563 | 0.2050391 | 0.297541 | 0.2090858 | 0.001606062 | 0.008086047 | 0.02313573 | 0.05044339 | 0.06786938 |\n\n",
            "text/latex": "A matrix: 1 × 10 of type dbl\n\\begin{tabular}{r|llllllllll}\n  & P0 & P1 & P2 & P3 & P4 & P5 & P6 & P7 & P8 & P9\\\\\n\\hline\n\t & 0.0309372 & 0.1062563 & 0.2050391 & 0.297541 & 0.2090858 & 0.001606062 & 0.008086047 & 0.02313573 & 0.05044339 & 0.06786938\\\\\n\\end{tabular}\n",
            "text/plain": [
              " P0        P1        P2        P3       P4        P5          P6         \n",
              " 0.0309372 0.1062563 0.2050391 0.297541 0.2090858 0.001606062 0.008086047\n",
              " P7         P8         P9        \n",
              " 0.02313573 0.05044339 0.06786938"
            ]
          },
          "metadata": {}
        }
      ]
    },
    {
      "cell_type": "code",
      "source": [
        "# Сумма финальных вероятностей\n",
        "sum(solInfDF)"
      ],
      "metadata": {
        "colab": {
          "base_uri": "https://localhost:8080/",
          "height": 34
        },
        "id": "MSlIHfmBH9em",
        "outputId": "449a0a53-cd17-4702-97e9-88afed5ff7a8"
      },
      "execution_count": null,
      "outputs": [
        {
          "output_type": "display_data",
          "data": {
            "text/html": [
              "1"
            ],
            "text/markdown": "1",
            "text/latex": "1",
            "text/plain": [
              "[1] 1"
            ]
          },
          "metadata": {}
        }
      ]
    },
    {
      "cell_type": "markdown",
      "source": [
        "Вероятноcть простоя — вероятность $P_0$"
      ],
      "metadata": {
        "id": "tuo_RGwzV9C8"
      }
    },
    {
      "cell_type": "code",
      "source": [
        "# Вероятность простоя\n",
        "solInfDF[1]"
      ],
      "metadata": {
        "colab": {
          "base_uri": "https://localhost:8080/",
          "height": 34
        },
        "id": "FP4DEZ1RWXNu",
        "outputId": "186a407a-1a36-42a8-c389-2a4233350443"
      },
      "execution_count": null,
      "outputs": [
        {
          "output_type": "display_data",
          "data": {
            "text/html": [
              "0.0309372009873776"
            ],
            "text/markdown": "0.0309372009873776",
            "text/latex": "0.0309372009873776",
            "text/plain": [
              "[1] 0.0309372"
            ]
          },
          "metadata": {}
        }
      ]
    },
    {
      "cell_type": "markdown",
      "source": [
        "Вероятность образования очереди — вероятность обратная сумме вероятностей $P_0, P_1, P_5$"
      ],
      "metadata": {
        "id": "HdvkTvtuW2sI"
      }
    },
    {
      "cell_type": "code",
      "source": [
        "# Вероятность образования очереди\n",
        "1 - solInfDF[1] - solInfDF[2] - solInfDF[6]"
      ],
      "metadata": {
        "colab": {
          "base_uri": "https://localhost:8080/",
          "height": 34
        },
        "id": "fgmpssx3XQo_",
        "outputId": "4fe82d0c-8023-4bf5-fe8d-5ea4ef42f5e9"
      },
      "execution_count": null,
      "outputs": [
        {
          "output_type": "display_data",
          "data": {
            "text/html": [
              "0.861200474887872"
            ],
            "text/markdown": "0.861200474887872",
            "text/latex": "0.861200474887872",
            "text/plain": [
              "[1] 0.8612005"
            ]
          },
          "metadata": {}
        }
      ]
    },
    {
      "cell_type": "markdown",
      "source": [
        "Так как количесвто клиентов, которых обслуживает серевер, меньше значения максимальной длины очереди, то абсолютная пропуская спобосность системы будет равна интенсивности входного потока $λ$"
      ],
      "metadata": {
        "id": "ZNuKZK0oYI37"
      }
    },
    {
      "cell_type": "code",
      "source": [
        "# Абсолютная пропускная способность\n",
        "absLambda <- lambda\n",
        "absLambda"
      ],
      "metadata": {
        "colab": {
          "base_uri": "https://localhost:8080/",
          "height": 34
        },
        "id": "fI7w5vxiYtBR",
        "outputId": "03095bbf-d01d-4a84-cdc4-8fb1ec446457"
      },
      "execution_count": null,
      "outputs": [
        {
          "output_type": "display_data",
          "data": {
            "text/html": [
              "0.573326334822923"
            ],
            "text/markdown": "0.573326334822923",
            "text/latex": "0.573326334822923",
            "text/plain": [
              "[1] 0.5733263"
            ]
          },
          "metadata": {}
        }
      ]
    },
    {
      "cell_type": "code",
      "source": [
        "# Cреднее число заявок в системе\n",
        "queueSize <- c(1:4)\n",
        "\n",
        "Lsys <- sum(solInf[3:5]*queueSize[1:3]) + sum(solInf[7:10]*queueSize)\n",
        "Lsys"
      ],
      "metadata": {
        "colab": {
          "base_uri": "https://localhost:8080/",
          "height": 34
        },
        "id": "AowuAAxLZC7a",
        "outputId": "6eeea91e-30a7-446e-e51e-7b3f6a717a85"
      },
      "execution_count": null,
      "outputs": [
        {
          "output_type": "display_data",
          "data": {
            "text/html": [
              "1.90454370497115"
            ],
            "text/markdown": "1.90454370497115",
            "text/latex": "1.90454370497115",
            "text/plain": [
              "[1] 1.904544"
            ]
          },
          "metadata": {}
        }
      ]
    },
    {
      "cell_type": "markdown",
      "source": [
        "Для расчёта среднего время нахождения заявок в системе нам понадобиться вначале посчитать среднее число заявок в системе"
      ],
      "metadata": {
        "id": "Meufjc2edJnW"
      }
    },
    {
      "cell_type": "code",
      "source": [
        "# Cреднее время нахождения заявок в системе\n",
        "L <- (k - Lsys)*lambda\n",
        "\n",
        "Tsys <- Lsys/L\n",
        "Tsys"
      ],
      "metadata": {
        "colab": {
          "base_uri": "https://localhost:8080/",
          "height": 34
        },
        "id": "jzkfR9Cbd9gB",
        "outputId": "fa6d2421-19c6-4896-b173-2d7693d44b1c"
      },
      "execution_count": null,
      "outputs": [
        {
          "output_type": "display_data",
          "data": {
            "text/html": [
              "1.58529629691962"
            ],
            "text/markdown": "1.58529629691962",
            "text/latex": "1.58529629691962",
            "text/plain": [
              "[1] 1.585296"
            ]
          },
          "metadata": {}
        }
      ]
    },
    {
      "cell_type": "code",
      "source": [
        "# Средняя длина очереди\n",
        "Lq <- Lsys - L/mu\n",
        "Lq"
      ],
      "metadata": {
        "colab": {
          "base_uri": "https://localhost:8080/",
          "height": 34
        },
        "id": "PKMuUUtFdlYv",
        "outputId": "55b6e3c9-494a-4e38-eaaa-0b5ee4d7003a"
      },
      "execution_count": null,
      "outputs": [
        {
          "output_type": "display_data",
          "data": {
            "text/html": [
              "0.194087144925408"
            ],
            "text/markdown": "0.194087144925408",
            "text/latex": "0.194087144925408",
            "text/plain": [
              "[1] 0.1940871"
            ]
          },
          "metadata": {}
        }
      ]
    },
    {
      "cell_type": "code",
      "source": [
        "# Cреднее время нахождения в очереди\n",
        "Wq <- Lq/L\n",
        "Wq"
      ],
      "metadata": {
        "colab": {
          "base_uri": "https://localhost:8080/",
          "height": 34
        },
        "id": "Y8_yrJezeUuo",
        "outputId": "8c62ec8b-ebff-4f21-b9d9-d16cad32d344"
      },
      "execution_count": null,
      "outputs": [
        {
          "output_type": "display_data",
          "data": {
            "text/html": [
              "0.1615534636075"
            ],
            "text/markdown": "0.1615534636075",
            "text/latex": "0.1615534636075",
            "text/plain": [
              "[1] 0.1615535"
            ]
          },
          "metadata": {}
        }
      ]
    },
    {
      "cell_type": "markdown",
      "source": [
        "### Экспериментальная часть"
      ],
      "metadata": {
        "id": "vihZvR2Rz5-4"
      }
    },
    {
      "cell_type": "code",
      "source": [
        "# Задание начального состояния и моментов времени (параметры определены ранее)\n",
        "n <- 45 # Максимальное значение\n",
        "step <- 0.002 # Шаг\n",
        "\n",
        "expState <- c(P0 = 1, P1 = 0, P2 = 0, P3 = 0, P4 = 0, P5 = 0, P6 = 0, P7 = 0, P8 = 0, P9 = 0)\n",
        "expTimes <- seq(0, n, by = step)"
      ],
      "metadata": {
        "id": "6QoCwnirz5Yf"
      },
      "execution_count": null,
      "outputs": []
    },
    {
      "cell_type": "code",
      "source": [
        "# Получение вероятностей для эксперимента\n",
        "outExp <- ode(y = expState, times = expTimes, func = Kolmogorovs, parms = NULL)"
      ],
      "metadata": {
        "id": "QgyiDkz_fgZn"
      },
      "execution_count": null,
      "outputs": []
    },
    {
      "cell_type": "code",
      "source": [
        "# Функция выбора состояния\n",
        "chooseState <- function(outExpRow)\n",
        "{\n",
        "  resState <- NaN\n",
        "\n",
        "  p <- runif(1)\n",
        "\n",
        "  if(p < outExpRow[1]) resState <- \"S0\"\n",
        "  else if (p >= sum(outExpRow[1:10] & p <= 1)) resState <- \"S9\"\n",
        "  else \n",
        "  {\n",
        "    for(j in 1 : 9)\n",
        "    if(p >= sum(outExpRow[1:j]) & p < sum(outExpRow[1:(j + 1)]))\n",
        "    {\n",
        "      resState <- paste(\"S\", j, sep = \"\", collapse = NULL)\n",
        "      break\n",
        "    } \n",
        "  }\n",
        "\n",
        "  return(resState)\n",
        "}"
      ],
      "metadata": {
        "id": "XhsJHYSEiFbC"
      },
      "execution_count": null,
      "outputs": []
    },
    {
      "cell_type": "code",
      "source": [
        "# Проведение эксперимента\n",
        "resExpData <- data.frame()\n",
        "\n",
        "for(i in 1 : as.integer(n/step))\n",
        "{\n",
        "  curState <- chooseState(outExp[i,2:11])\n",
        "  resExpData[i, 1] <- outExp[i, 1]\n",
        "  resExpData[i, 2] <- curState\n",
        "\n",
        "  resExpData[i, 3] <- switch(curState, \"S0\" = 0, \"S1\" = 0, \"S2\" = 1, \"S3\" = 2, \"S4\" = 3, \"S5\" = 0, \"S6\" = 1, \"S7\" = 2, \"S8\" = 3, \"S9\" = 4)\n",
        "\n",
        "  if(curState == \"S0\") resExpData[i, 4] <- \"idle\"\n",
        "  else if(curState == \"S1\" | curState == \"S2\" | curState == \"S3\" | curState == \"S4\") resExpData[i, 4] <- \"working\"\n",
        "  else resExpData[i, 4] <- \"broken\"\n",
        "}\n",
        "\n",
        "colnames(resExpData) <- c(\"time\", \"state\", \"queue size\", \"status\")\n"
      ],
      "metadata": {
        "id": "OzP5CrN-Op6M"
      },
      "execution_count": null,
      "outputs": []
    },
    {
      "cell_type": "code",
      "source": [
        "# Вероятность простоя\n",
        "sum(resExpData$state == \"S0\")/length(resExpData$state)"
      ],
      "metadata": {
        "colab": {
          "base_uri": "https://localhost:8080/",
          "height": 34
        },
        "id": "nMWVSDnaTfgq",
        "outputId": "0c88d8f0-537f-42e3-a907-efc7b04fad45"
      },
      "execution_count": null,
      "outputs": [
        {
          "output_type": "display_data",
          "data": {
            "text/html": [
              "0.0311555555555556"
            ],
            "text/markdown": "0.0311555555555556",
            "text/latex": "0.0311555555555556",
            "text/plain": [
              "[1] 0.03115556"
            ]
          },
          "metadata": {}
        }
      ]
    },
    {
      "cell_type": "code",
      "source": [
        "# Вероятность образования очереди\n",
        "sum(resExpData$`queue size` > 0)/length(resExpData$state)"
      ],
      "metadata": {
        "colab": {
          "base_uri": "https://localhost:8080/",
          "height": 34
        },
        "id": "aopgJkOOuLdB",
        "outputId": "7d434dbb-71b1-4542-f30a-e7df1c0b4e14"
      },
      "execution_count": null,
      "outputs": [
        {
          "output_type": "display_data",
          "data": {
            "text/html": [
              "0.890222222222222"
            ],
            "text/markdown": "0.890222222222222",
            "text/latex": "0.890222222222222",
            "text/plain": [
              "[1] 0.8902222"
            ]
          },
          "metadata": {}
        }
      ]
    },
    {
      "cell_type": "code",
      "source": [
        "# Абсолютная пропускная способность\n",
        "sum(resExpData$status == \"working\")/length(resExpData$state)*lambda"
      ],
      "metadata": {
        "colab": {
          "base_uri": "https://localhost:8080/",
          "height": 34
        },
        "id": "fO1kwp6IuoHR",
        "outputId": "58f4f113-aadd-41c1-be6e-3aea577a5227"
      },
      "execution_count": null,
      "outputs": [
        {
          "output_type": "display_data",
          "data": {
            "text/html": [
              "0.470280481577416"
            ],
            "text/markdown": "0.470280481577416",
            "text/latex": "0.470280481577416",
            "text/plain": [
              "[1] 0.4702805"
            ]
          },
          "metadata": {}
        }
      ]
    },
    {
      "cell_type": "code",
      "source": [
        "# Cреднее число заявок в системе\n",
        "LsysExp <- sum(resExpData$`queue size`)/length(resExpData$state)\n",
        "LsysExp"
      ],
      "metadata": {
        "colab": {
          "base_uri": "https://localhost:8080/",
          "height": 34
        },
        "id": "ke1NAeGsvO59",
        "outputId": "3f71dcf3-efc4-4e54-a01f-a76e6d73c036"
      },
      "execution_count": null,
      "outputs": [
        {
          "output_type": "display_data",
          "data": {
            "text/html": [
              "2.06822222222222"
            ],
            "text/markdown": "2.06822222222222",
            "text/latex": "2.06822222222222",
            "text/plain": [
              "[1] 2.068222"
            ]
          },
          "metadata": {}
        }
      ]
    },
    {
      "cell_type": "code",
      "source": [
        "# Cреднее время нахождения заявок в системе\n",
        "Lexp <- (k - LsysExp)*lambda\n",
        "\n",
        "LsysExp/Lexp"
      ],
      "metadata": {
        "colab": {
          "base_uri": "https://localhost:8080/",
          "height": 34
        },
        "id": "N1R3gCt7zGHg",
        "outputId": "8ece6267-67f8-4443-aa03-06f3cb766ee9"
      },
      "execution_count": null,
      "outputs": [
        {
          "output_type": "display_data",
          "data": {
            "text/html": [
              "1.86740339243474"
            ],
            "text/markdown": "1.86740339243474",
            "text/latex": "1.86740339243474",
            "text/plain": [
              "[1] 1.867403"
            ]
          },
          "metadata": {}
        }
      ]
    },
    {
      "cell_type": "code",
      "source": [
        "# Средняя длина очереди\n",
        "LqExp <- LsysExp - Lexp/mu\n",
        "LqExp"
      ],
      "metadata": {
        "colab": {
          "base_uri": "https://localhost:8080/",
          "height": 34
        },
        "id": "Kn22jb1mvubL",
        "outputId": "8beaa001-f1d0-4299-adf8-507e910431f2"
      },
      "execution_count": null,
      "outputs": [
        {
          "output_type": "display_data",
          "data": {
            "text/html": [
              "0.491371404388723"
            ],
            "text/markdown": "0.491371404388723",
            "text/latex": "0.491371404388723",
            "text/plain": [
              "[1] 0.4913714"
            ]
          },
          "metadata": {}
        }
      ]
    },
    {
      "cell_type": "code",
      "source": [
        "# Cреднее время нахождения в очереди\n",
        "LqExp/Lexp"
      ],
      "metadata": {
        "colab": {
          "base_uri": "https://localhost:8080/",
          "height": 34
        },
        "id": "99RN061MzK46",
        "outputId": "a07cdad9-a29d-4660-e997-baaffc032525"
      },
      "execution_count": null,
      "outputs": [
        {
          "output_type": "display_data",
          "data": {
            "text/html": [
              "0.443660559122612"
            ],
            "text/markdown": "0.443660559122612",
            "text/latex": "0.443660559122612",
            "text/plain": [
              "[1] 0.4436606"
            ]
          },
          "metadata": {}
        }
      ]
    }
  ]
}