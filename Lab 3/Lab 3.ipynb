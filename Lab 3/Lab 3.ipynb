{
  "cells": [
    {
      "cell_type": "markdown",
      "metadata": {
        "id": "b10_hE-ZBMeU"
      },
      "source": [
        "# Лабораторная работа 3. Модель однофазной одноканальной замкнутой системы обслуживания\n",
        "\n",
        "## Вариант 2\n",
        "\n",
        "##### Выполнил: Борисочкин М. И. РТ5-81Б"
      ]
    },
    {
      "cell_type": "markdown",
      "metadata": {
        "id": "qOPuEYLnBirQ"
      },
      "source": [
        "### Задание 1"
      ]
    },
    {
      "cell_type": "code",
      "execution_count": null,
      "metadata": {
        "id": "Fbzx2r7BBLZV",
        "outputId": "44d1659c-4d8b-46a5-d09c-a99119d25ac4",
        "colab": {
          "base_uri": "https://localhost:8080/",
          "height": 224
        }
      },
      "outputs": [
        {
          "output_type": "display_data",
          "data": {
            "text/plain": [
              "                                           \n",
              "p1 0.2941768 0.2401275 0.07038554 0.3953102\n",
              "p2 0.0000000 0.4949811 0.06776147 0.4372574\n",
              "p3 0.0000000 0.0000000 0.45974212 0.5402579\n",
              "p4 0.0000000 0.0000000 0.00000000 1.0000000"
            ],
            "text/html": [
              "<table class=\"dataframe\">\n",
              "<caption>A data.frame: 4 × 4</caption>\n",
              "<thead>\n",
              "\t<tr><th></th><th scope=col></th><th scope=col></th><th scope=col></th><th scope=col></th></tr>\n",
              "\t<tr><th></th><th scope=col>&lt;dbl&gt;</th><th scope=col>&lt;dbl&gt;</th><th scope=col>&lt;dbl&gt;</th><th scope=col>&lt;dbl&gt;</th></tr>\n",
              "</thead>\n",
              "<tbody>\n",
              "\t<tr><th scope=row>p1</th><td>0.2941768</td><td>0.2401275</td><td>0.07038554</td><td>0.3953102</td></tr>\n",
              "\t<tr><th scope=row>p2</th><td>0.0000000</td><td>0.4949811</td><td>0.06776147</td><td>0.4372574</td></tr>\n",
              "\t<tr><th scope=row>p3</th><td>0.0000000</td><td>0.0000000</td><td>0.45974212</td><td>0.5402579</td></tr>\n",
              "\t<tr><th scope=row>p4</th><td>0.0000000</td><td>0.0000000</td><td>0.00000000</td><td>1.0000000</td></tr>\n",
              "</tbody>\n",
              "</table>\n"
            ],
            "text/markdown": "\nA data.frame: 4 × 4\n\n| <!--/--> | <!----> &lt;dbl&gt; | <!----> &lt;dbl&gt; | <!----> &lt;dbl&gt; | <!----> &lt;dbl&gt; |\n|---|---|---|---|---|\n| p1 | 0.2941768 | 0.2401275 | 0.07038554 | 0.3953102 |\n| p2 | 0.0000000 | 0.4949811 | 0.06776147 | 0.4372574 |\n| p3 | 0.0000000 | 0.0000000 | 0.45974212 | 0.5402579 |\n| p4 | 0.0000000 | 0.0000000 | 0.00000000 | 1.0000000 |\n\n",
            "text/latex": "A data.frame: 4 × 4\n\\begin{tabular}{r|llll}\n  &  &  &  & \\\\\n  & <dbl> & <dbl> & <dbl> & <dbl>\\\\\n\\hline\n\tp1 & 0.2941768 & 0.2401275 & 0.07038554 & 0.3953102\\\\\n\tp2 & 0.0000000 & 0.4949811 & 0.06776147 & 0.4372574\\\\\n\tp3 & 0.0000000 & 0.0000000 & 0.45974212 & 0.5402579\\\\\n\tp4 & 0.0000000 & 0.0000000 & 0.00000000 & 1.0000000\\\\\n\\end{tabular}\n"
          },
          "metadata": {}
        },
        {
          "output_type": "stream",
          "name": "stdout",
          "text": [
            "[1] \"k = 8\"\n"
          ]
        }
      ],
      "source": [
        "# Генерация начальных значений \n",
        "Variant <- 2\n",
        "set.seed(Variant) \n",
        "k <- sample(c(4:9), 1)\n",
        "pp1 <- runif(4)\n",
        "pp2 <- runif(3)\n",
        "pp3 <- runif(2)\n",
        "p1 <- pp1/sum(pp1)\n",
        "p2 <- c(c(0), pp2/sum(pp2))\n",
        "p3 <- c(c(0,0) ,pp3/sum(pp3))\n",
        "p4 <- c(0,0,0,1)\n",
        "P <- data.frame()\n",
        "P <- rbind(P, p1)\n",
        "P <- rbind(P, p2)\n",
        "P <- rbind(P, p3)\n",
        "P <- rbind(P, p4)\n",
        "rownames(P)<-c(\"p1\", \"p2\", \"p3\", \"p4\")\n",
        "colnames(P)<-c(\"\", \"\", \"\", \"\")\n",
        "View(P)\n",
        "print(paste(\"k =\", as.character(k)))"
      ]
    },
    {
      "cell_type": "markdown",
      "metadata": {
        "id": "GOrwqTPzMmhg"
      },
      "source": [
        "#### Теоретическое решение\n",
        "\n"
      ]
    },
    {
      "cell_type": "markdown",
      "metadata": {
        "id": "netJXnUyRuKi"
      },
      "source": [
        "Граф состояний:\n",
        "\n",
        "![image](https://raw.githubusercontent.com/RDcool/BMSTU_AHP/main/Lab%203/States%20graph.svg)"
      ]
    },
    {
      "cell_type": "code",
      "execution_count": null,
      "metadata": {
        "id": "iZ3j4ImaM18K"
      },
      "outputs": [],
      "source": [
        "# Создание начальных матриц\n",
        "\n",
        "# Вероятность начального состояния\n",
        "p0 <- matrix(c(1, 0, 0, 0), ncol = 4, nrow = 1, byrow = TRUE)\n",
        "Pmatrix <- data.matrix(P)"
      ]
    },
    {
      "cell_type": "code",
      "execution_count": null,
      "metadata": {
        "id": "ueolw8OUOEoP",
        "outputId": "b8e5d2a1-d4c7-4402-eade-e5e132f1f804",
        "colab": {
          "base_uri": "https://localhost:8080/"
        }
      },
      "outputs": [
        {
          "output_type": "stream",
          "name": "stderr",
          "text": [
            "Installing package into ‘/usr/local/lib/R/site-library’\n",
            "(as ‘lib’ is unspecified)\n",
            "\n"
          ]
        }
      ],
      "source": [
        "# Установка и подключение библиотеки matrixcalc\n",
        "install.packages(\"matrixcalc\")\n",
        "library(matrixcalc)"
      ]
    },
    {
      "cell_type": "code",
      "execution_count": null,
      "metadata": {
        "id": "GyWw1R_fO2pd"
      },
      "outputs": [],
      "source": [
        "# Функция расчёта вероятностей состояний на шаге k\n",
        "calculateprobs <- function(K)\n",
        "{\n",
        "  res <- data.frame(p0 %*% matrix.power(Pmatrix, K))\n",
        "\n",
        "  rownames(res) <- \"Вероятность\"\n",
        "  colnames(res) <- c(\"S1\", \"S2\", \"S3\", \"S4\")\n",
        "\n",
        "  return(res)\n",
        "}"
      ]
    },
    {
      "cell_type": "code",
      "execution_count": null,
      "metadata": {
        "id": "nVle67koOZ-B",
        "outputId": "3df92799-6a98-4374-950d-3c19254b5203",
        "colab": {
          "base_uri": "https://localhost:8080/",
          "height": 129
        }
      },
      "outputs": [
        {
          "output_type": "display_data",
          "data": {
            "text/html": [
              "<table class=\"dataframe\">\n",
              "<caption>A data.frame: 1 × 4</caption>\n",
              "<thead>\n",
              "\t<tr><th></th><th scope=col>S1</th><th scope=col>S2</th><th scope=col>S3</th><th scope=col>S4</th></tr>\n",
              "\t<tr><th></th><th scope=col>&lt;dbl&gt;</th><th scope=col>&lt;dbl&gt;</th><th scope=col>&lt;dbl&gt;</th><th scope=col>&lt;dbl&gt;</th></tr>\n",
              "</thead>\n",
              "<tbody>\n",
              "\t<tr><th scope=row>Вероятность</th><td>5.608765e-05</td><td>0.004241942</td><td>0.003571874</td><td>0.9921301</td></tr>\n",
              "</tbody>\n",
              "</table>\n"
            ],
            "text/markdown": "\nA data.frame: 1 × 4\n\n| <!--/--> | S1 &lt;dbl&gt; | S2 &lt;dbl&gt; | S3 &lt;dbl&gt; | S4 &lt;dbl&gt; |\n|---|---|---|---|---|\n| Вероятность | 5.608765e-05 | 0.004241942 | 0.003571874 | 0.9921301 |\n\n",
            "text/latex": "A data.frame: 1 × 4\n\\begin{tabular}{r|llll}\n  & S1 & S2 & S3 & S4\\\\\n  & <dbl> & <dbl> & <dbl> & <dbl>\\\\\n\\hline\n\tВероятность & 5.608765e-05 & 0.004241942 & 0.003571874 & 0.9921301\\\\\n\\end{tabular}\n",
            "text/plain": [
              "            S1           S2          S3          S4       \n",
              "Вероятность 5.608765e-05 0.004241942 0.003571874 0.9921301"
            ]
          },
          "metadata": {}
        }
      ],
      "source": [
        "# Рассчитанные вероятности состояний на шаге k\n",
        "calculateprobs(k)"
      ]
    },
    {
      "cell_type": "code",
      "execution_count": null,
      "metadata": {
        "id": "kdRL8gj3PkEp",
        "outputId": "0dc04397-0f77-4684-ca74-ab8d94222630",
        "colab": {
          "base_uri": "https://localhost:8080/",
          "height": 129
        }
      },
      "outputs": [
        {
          "output_type": "display_data",
          "data": {
            "text/html": [
              "<table class=\"dataframe\">\n",
              "<caption>A data.frame: 1 × 4</caption>\n",
              "<thead>\n",
              "\t<tr><th></th><th scope=col>S1</th><th scope=col>S2</th><th scope=col>S3</th><th scope=col>S4</th></tr>\n",
              "\t<tr><th></th><th scope=col>&lt;dbl&gt;</th><th scope=col>&lt;dbl&gt;</th><th scope=col>&lt;dbl&gt;</th><th scope=col>&lt;dbl&gt;</th></tr>\n",
              "</thead>\n",
              "<tbody>\n",
              "\t<tr><th scope=row>Вероятность</th><td>0.0001906597</td><td>0.008477413</td><td>0.006490623</td><td>0.9848413</td></tr>\n",
              "</tbody>\n",
              "</table>\n"
            ],
            "text/markdown": "\nA data.frame: 1 × 4\n\n| <!--/--> | S1 &lt;dbl&gt; | S2 &lt;dbl&gt; | S3 &lt;dbl&gt; | S4 &lt;dbl&gt; |\n|---|---|---|---|---|\n| Вероятность | 0.0001906597 | 0.008477413 | 0.006490623 | 0.9848413 |\n\n",
            "text/latex": "A data.frame: 1 × 4\n\\begin{tabular}{r|llll}\n  & S1 & S2 & S3 & S4\\\\\n  & <dbl> & <dbl> & <dbl> & <dbl>\\\\\n\\hline\n\tВероятность & 0.0001906597 & 0.008477413 & 0.006490623 & 0.9848413\\\\\n\\end{tabular}\n",
            "text/plain": [
              "            S1           S2          S3          S4       \n",
              "Вероятность 0.0001906597 0.008477413 0.006490623 0.9848413"
            ]
          },
          "metadata": {}
        }
      ],
      "source": [
        "# Рассчитанные вероятности состояний на шаге k - 1\n",
        "calculateprobs(k - 1)"
      ]
    },
    {
      "cell_type": "code",
      "execution_count": null,
      "metadata": {
        "id": "IK1VyAOYPrTE",
        "outputId": "c4d2dded-39a4-403c-a634-ff9a1e5115de",
        "colab": {
          "base_uri": "https://localhost:8080/",
          "height": 129
        }
      },
      "outputs": [
        {
          "output_type": "display_data",
          "data": {
            "text/html": [
              "<table class=\"dataframe\">\n",
              "<caption>A data.frame: 1 × 4</caption>\n",
              "<thead>\n",
              "\t<tr><th></th><th scope=col>S1</th><th scope=col>S2</th><th scope=col>S3</th><th scope=col>S4</th></tr>\n",
              "\t<tr><th></th><th scope=col>&lt;dbl&gt;</th><th scope=col>&lt;dbl&gt;</th><th scope=col>&lt;dbl&gt;</th><th scope=col>&lt;dbl&gt;</th></tr>\n",
              "</thead>\n",
              "<tbody>\n",
              "\t<tr><th scope=row>Вероятность</th><td>0.0006481125</td><td>0.01681232</td><td>0.01154077</td><td>0.9709988</td></tr>\n",
              "</tbody>\n",
              "</table>\n"
            ],
            "text/markdown": "\nA data.frame: 1 × 4\n\n| <!--/--> | S1 &lt;dbl&gt; | S2 &lt;dbl&gt; | S3 &lt;dbl&gt; | S4 &lt;dbl&gt; |\n|---|---|---|---|---|\n| Вероятность | 0.0006481125 | 0.01681232 | 0.01154077 | 0.9709988 |\n\n",
            "text/latex": "A data.frame: 1 × 4\n\\begin{tabular}{r|llll}\n  & S1 & S2 & S3 & S4\\\\\n  & <dbl> & <dbl> & <dbl> & <dbl>\\\\\n\\hline\n\tВероятность & 0.0006481125 & 0.01681232 & 0.01154077 & 0.9709988\\\\\n\\end{tabular}\n",
            "text/plain": [
              "            S1           S2         S3         S4       \n",
              "Вероятность 0.0006481125 0.01681232 0.01154077 0.9709988"
            ]
          },
          "metadata": {}
        }
      ],
      "source": [
        "# Рассчитанные вероятности состояний на шаге k - 2\n",
        "calculateprobs(k - 2)"
      ]
    },
    {
      "cell_type": "markdown",
      "metadata": {
        "id": "2uPEZRzwDzRX"
      },
      "source": [
        "#### Численное решение"
      ]
    },
    {
      "cell_type": "code",
      "execution_count": null,
      "metadata": {
        "id": "dsxJopjnBJqU"
      },
      "outputs": [],
      "source": [
        "# Функция перехода из состояния в состояние\n",
        "makestep <- function(state, prob)\n",
        "{\n",
        "  curstate <- state\n",
        "  rowprob <- P[state,]\n",
        "\n",
        "  if(prob <= rowprob[1]) curstate <- 1\n",
        "  else if(prob > rowprob[1] & prob <= rowprob[1] + rowprob[2]) curstate <- 2\n",
        "  else if(prob > rowprob[1] + rowprob[2] & prob <= rowprob[1] + rowprob[2] + rowprob[3]) curstate <- 3\n",
        "  else if(prob > rowprob[1] + rowprob[2] + rowprob[3] & prob <= 1) curstate <- 4\n",
        "\n",
        "  return(curstate)\n",
        "}"
      ]
    },
    {
      "cell_type": "code",
      "execution_count": null,
      "metadata": {
        "id": "J0SaiiXnFLx5"
      },
      "outputs": [],
      "source": [
        "# Функция проведения одиночного эксперимента\n",
        "conductexperiment <- function(P, K)\n",
        "{\n",
        "  resstates <- c()\n",
        "  curstate <- 1 # Начальное состояние\n",
        "\n",
        "  for(i in 1:K)\n",
        "  {\n",
        "    prob <- runif(1)\n",
        "    curstate <- makestep(curstate, prob)\n",
        "    resstates <- append(resstates, curstate)\n",
        "  }\n",
        "  return(resstates)\n",
        "}"
      ]
    },
    {
      "cell_type": "code",
      "execution_count": null,
      "metadata": {
        "id": "3TzwI-whNTWk"
      },
      "outputs": [],
      "source": [
        "# Проведение экпериментов\n",
        "resdata <- data.frame()\n",
        "N <- 150000 # Число экспериментов\n",
        "\n",
        "for (i in 1:N)\n",
        "{\n",
        "  resvector <- c(1)\n",
        "  res <- conductexperiment(P, k)\n",
        "  resvector <- append(resvector, res)\n",
        "  resdata <- rbind(resdata, resvector)\n",
        "}\n",
        "\n",
        "colnames(resdata) <- c(0:8)\n",
        "rownames(resdata) <- c(1:N)"
      ]
    },
    {
      "cell_type": "code",
      "execution_count": null,
      "metadata": {
        "id": "8G75Rr9LRarb"
      },
      "outputs": [],
      "source": [
        "# Функция подсчёта вероятности состояний на k-том шаге\n",
        "getstateprobs <- function(K)\n",
        "{\n",
        "  probsvect <- c(0, 0, 0, 0)\n",
        "  for (i in 1:4) probsvect[i] <- sum(resdata[,K] == i)/length(resdata[,K])\n",
        "  \n",
        "  probsdf <- data.frame(probsvect)\n",
        "  probsdf <- t(probsdf)\n",
        "\n",
        "  rownames(probsdf) <- \"Вероятность\"\n",
        "  colnames(probsdf) <- c(\"S1\", \"S2\", \"S3\", \"S4\")\n",
        "\n",
        "  return(probsdf)\n",
        "}"
      ]
    },
    {
      "cell_type": "code",
      "execution_count": null,
      "metadata": {
        "id": "GZQ5H0-7He0Y",
        "colab": {
          "base_uri": "https://localhost:8080/",
          "height": 98
        },
        "outputId": "a6476750-2bd3-416a-8d3a-fe6a9d4cc63e"
      },
      "outputs": [
        {
          "output_type": "display_data",
          "data": {
            "text/html": [
              "<table class=\"dataframe\">\n",
              "<caption>A matrix: 1 × 4 of type dbl</caption>\n",
              "<thead>\n",
              "\t<tr><th></th><th scope=col>S1</th><th scope=col>S2</th><th scope=col>S3</th><th scope=col>S4</th></tr>\n",
              "</thead>\n",
              "<tbody>\n",
              "\t<tr><th scope=row>Вероятность</th><td>0.0001533333</td><td>0.008693333</td><td>0.006806667</td><td>0.9843467</td></tr>\n",
              "</tbody>\n",
              "</table>\n"
            ],
            "text/markdown": "\nA matrix: 1 × 4 of type dbl\n\n| <!--/--> | S1 | S2 | S3 | S4 |\n|---|---|---|---|---|\n| Вероятность | 0.0001533333 | 0.008693333 | 0.006806667 | 0.9843467 |\n\n",
            "text/latex": "A matrix: 1 × 4 of type dbl\n\\begin{tabular}{r|llll}\n  & S1 & S2 & S3 & S4\\\\\n\\hline\n\tВероятность & 0.0001533333 & 0.008693333 & 0.006806667 & 0.9843467\\\\\n\\end{tabular}\n",
            "text/plain": [
              "            S1           S2          S3          S4       \n",
              "Вероятность 0.0001533333 0.008693333 0.006806667 0.9843467"
            ]
          },
          "metadata": {}
        }
      ],
      "source": [
        "# Вероятности состояний на шаге k\n",
        "getstateprobs(k)"
      ]
    },
    {
      "cell_type": "code",
      "execution_count": null,
      "metadata": {
        "id": "vIXl6HEKHvbf",
        "colab": {
          "base_uri": "https://localhost:8080/",
          "height": 98
        },
        "outputId": "14026652-de57-4342-cd8d-d52e20339bdf"
      },
      "outputs": [
        {
          "output_type": "display_data",
          "data": {
            "text/html": [
              "<table class=\"dataframe\">\n",
              "<caption>A matrix: 1 × 4 of type dbl</caption>\n",
              "<thead>\n",
              "\t<tr><th></th><th scope=col>S1</th><th scope=col>S2</th><th scope=col>S3</th><th scope=col>S4</th></tr>\n",
              "</thead>\n",
              "<tbody>\n",
              "\t<tr><th scope=row>Вероятность</th><td>0.00058</td><td>0.01752667</td><td>0.01168</td><td>0.9702133</td></tr>\n",
              "</tbody>\n",
              "</table>\n"
            ],
            "text/markdown": "\nA matrix: 1 × 4 of type dbl\n\n| <!--/--> | S1 | S2 | S3 | S4 |\n|---|---|---|---|---|\n| Вероятность | 0.00058 | 0.01752667 | 0.01168 | 0.9702133 |\n\n",
            "text/latex": "A matrix: 1 × 4 of type dbl\n\\begin{tabular}{r|llll}\n  & S1 & S2 & S3 & S4\\\\\n\\hline\n\tВероятность & 0.00058 & 0.01752667 & 0.01168 & 0.9702133\\\\\n\\end{tabular}\n",
            "text/plain": [
              "            S1      S2         S3      S4       \n",
              "Вероятность 0.00058 0.01752667 0.01168 0.9702133"
            ]
          },
          "metadata": {}
        }
      ],
      "source": [
        "# Вероятности состояний на шаге k - 1\n",
        "getstateprobs(k - 1)"
      ]
    },
    {
      "cell_type": "code",
      "execution_count": null,
      "metadata": {
        "id": "Jzf_0KXUKQLv",
        "colab": {
          "base_uri": "https://localhost:8080/",
          "height": 98
        },
        "outputId": "1d03855c-f8f5-4a04-93c9-bd3e88b0cc78"
      },
      "outputs": [
        {
          "output_type": "display_data",
          "data": {
            "text/html": [
              "<table class=\"dataframe\">\n",
              "<caption>A matrix: 1 × 4 of type dbl</caption>\n",
              "<thead>\n",
              "\t<tr><th></th><th scope=col>S1</th><th scope=col>S2</th><th scope=col>S3</th><th scope=col>S4</th></tr>\n",
              "</thead>\n",
              "<tbody>\n",
              "\t<tr><th scope=row>Вероятность</th><td>0.002133333</td><td>0.03362</td><td>0.01946</td><td>0.9447867</td></tr>\n",
              "</tbody>\n",
              "</table>\n"
            ],
            "text/markdown": "\nA matrix: 1 × 4 of type dbl\n\n| <!--/--> | S1 | S2 | S3 | S4 |\n|---|---|---|---|---|\n| Вероятность | 0.002133333 | 0.03362 | 0.01946 | 0.9447867 |\n\n",
            "text/latex": "A matrix: 1 × 4 of type dbl\n\\begin{tabular}{r|llll}\n  & S1 & S2 & S3 & S4\\\\\n\\hline\n\tВероятность & 0.002133333 & 0.03362 & 0.01946 & 0.9447867\\\\\n\\end{tabular}\n",
            "text/plain": [
              "            S1          S2      S3      S4       \n",
              "Вероятность 0.002133333 0.03362 0.01946 0.9447867"
            ]
          },
          "metadata": {}
        }
      ],
      "source": [
        "# Вероятности состояний на шаге k - 2\n",
        "getstateprobs(k - 2)"
      ]
    },
    {
      "cell_type": "markdown",
      "metadata": {
        "id": "_ja-DM1pqipa"
      },
      "source": [
        "### Задание 2"
      ]
    },
    {
      "cell_type": "code",
      "execution_count": null,
      "metadata": {
        "id": "-GrR_v41q2dz",
        "colab": {
          "base_uri": "https://localhost:8080/",
          "height": 129
        },
        "outputId": "da1ffa26-91b2-4479-ef84-70d7f067d1ef"
      },
      "outputs": [
        {
          "output_type": "display_data",
          "data": {
            "text/plain": [
              "  k  t1 t2\n",
              "1 14 20 3 "
            ],
            "text/html": [
              "<table class=\"dataframe\">\n",
              "<caption>A data.frame: 1 × 3</caption>\n",
              "<thead>\n",
              "\t<tr><th scope=col>k</th><th scope=col>t1</th><th scope=col>t2</th></tr>\n",
              "\t<tr><th scope=col>&lt;int&gt;</th><th scope=col>&lt;int&gt;</th><th scope=col>&lt;int&gt;</th></tr>\n",
              "</thead>\n",
              "<tbody>\n",
              "\t<tr><td>14</td><td>20</td><td>3</td></tr>\n",
              "</tbody>\n",
              "</table>\n"
            ],
            "text/markdown": "\nA data.frame: 1 × 3\n\n| k &lt;int&gt; | t1 &lt;int&gt; | t2 &lt;int&gt; |\n|---|---|---|\n| 14 | 20 | 3 |\n\n",
            "text/latex": "A data.frame: 1 × 3\n\\begin{tabular}{lll}\n k & t1 & t2\\\\\n <int> & <int> & <int>\\\\\n\\hline\n\t 14 & 20 & 3\\\\\n\\end{tabular}\n"
          },
          "metadata": {}
        }
      ],
      "source": [
        "# Генерация начальных условий\n",
        "Variant <- 2\n",
        "set.seed(Variant) \n",
        "k <- sample(c(10:25), 1)\n",
        "t1 <- sample(c(14:20), 1)\n",
        "t2 <- sample(c(2:5), 1)\n",
        "View(data.frame(k, t1, t2))"
      ]
    },
    {
      "cell_type": "code",
      "execution_count": null,
      "metadata": {
        "id": "xUbu3wJ3DQoS",
        "colab": {
          "base_uri": "https://localhost:8080/",
          "height": 129
        },
        "outputId": "ff3067f5-651e-46fa-99e7-343545df1ef7"
      },
      "outputs": [
        {
          "output_type": "display_data",
          "data": {
            "text/plain": [
              "  lambda mu        y  \n",
              "1 0.7    0.3333333 2.1"
            ],
            "text/html": [
              "<table class=\"dataframe\">\n",
              "<caption>A data.frame: 1 × 3</caption>\n",
              "<thead>\n",
              "\t<tr><th scope=col>lambda</th><th scope=col>mu</th><th scope=col>y</th></tr>\n",
              "\t<tr><th scope=col>&lt;dbl&gt;</th><th scope=col>&lt;dbl&gt;</th><th scope=col>&lt;dbl&gt;</th></tr>\n",
              "</thead>\n",
              "<tbody>\n",
              "\t<tr><td>0.7</td><td>0.3333333</td><td>2.1</td></tr>\n",
              "</tbody>\n",
              "</table>\n"
            ],
            "text/markdown": "\nA data.frame: 1 × 3\n\n| lambda &lt;dbl&gt; | mu &lt;dbl&gt; | y &lt;dbl&gt; |\n|---|---|---|\n| 0.7 | 0.3333333 | 2.1 |\n\n",
            "text/latex": "A data.frame: 1 × 3\n\\begin{tabular}{lll}\n lambda & mu & y\\\\\n <dbl> & <dbl> & <dbl>\\\\\n\\hline\n\t 0.7 & 0.3333333 & 2.1\\\\\n\\end{tabular}\n"
          },
          "metadata": {}
        }
      ],
      "source": [
        "# Вычисление интенсивностей входа и выхода, а также нагрузки системы\n",
        "lambda <- k/t1\n",
        "mu <- 1/t2\n",
        "y <- lambda/mu\n",
        "\n",
        "View(data.frame(lambda, mu, y))"
      ]
    },
    {
      "cell_type": "markdown",
      "metadata": {
        "id": "561W0msTTXVg"
      },
      "source": [
        "Выше видно, что серврер перегружен (y > 0) => задача не разрешима. Поэтому количество программистов (k) было снижено до 6."
      ]
    },
    {
      "cell_type": "code",
      "execution_count": null,
      "metadata": {
        "id": "TBVXqTNPSA_v",
        "colab": {
          "base_uri": "https://localhost:8080/",
          "height": 129
        },
        "outputId": "e1bd8b38-fe2b-400c-c27f-7f1ddbbd956d"
      },
      "outputs": [
        {
          "output_type": "display_data",
          "data": {
            "text/plain": [
              "  lambda mu        y  \n",
              "1 0.3    0.3333333 0.9"
            ],
            "text/html": [
              "<table class=\"dataframe\">\n",
              "<caption>A data.frame: 1 × 3</caption>\n",
              "<thead>\n",
              "\t<tr><th scope=col>lambda</th><th scope=col>mu</th><th scope=col>y</th></tr>\n",
              "\t<tr><th scope=col>&lt;dbl&gt;</th><th scope=col>&lt;dbl&gt;</th><th scope=col>&lt;dbl&gt;</th></tr>\n",
              "</thead>\n",
              "<tbody>\n",
              "\t<tr><td>0.3</td><td>0.3333333</td><td>0.9</td></tr>\n",
              "</tbody>\n",
              "</table>\n"
            ],
            "text/markdown": "\nA data.frame: 1 × 3\n\n| lambda &lt;dbl&gt; | mu &lt;dbl&gt; | y &lt;dbl&gt; |\n|---|---|---|\n| 0.3 | 0.3333333 | 0.9 |\n\n",
            "text/latex": "A data.frame: 1 × 3\n\\begin{tabular}{lll}\n lambda & mu & y\\\\\n <dbl> & <dbl> & <dbl>\\\\\n\\hline\n\t 0.3 & 0.3333333 & 0.9\\\\\n\\end{tabular}\n"
          },
          "metadata": {}
        }
      ],
      "source": [
        "k <- 6\n",
        "  \n",
        "lambda <- k/t1\n",
        "y <- lambda/mu\n",
        "\n",
        "View(data.frame(lambda, mu, y))"
      ]
    },
    {
      "cell_type": "markdown",
      "metadata": {
        "id": "kZpq4DgXqqZp"
      },
      "source": [
        "#### Теоритическая часть"
      ]
    },
    {
      "cell_type": "code",
      "execution_count": null,
      "metadata": {
        "id": "UC3oaA7oD8Na"
      },
      "outputs": [],
      "source": [
        "# Вероятность, что сервер будет свободен\n",
        "P0 <- 1 - y"
      ]
    },
    {
      "cell_type": "code",
      "execution_count": null,
      "metadata": {
        "id": "DUqn-7gdEb3b",
        "colab": {
          "base_uri": "https://localhost:8080/",
          "height": 34
        },
        "outputId": "88e0d990-309d-4fd1-b818-56f4b14920a2"
      },
      "outputs": [
        {
          "output_type": "display_data",
          "data": {
            "text/html": [
              "0.9"
            ],
            "text/markdown": "0.9",
            "text/latex": "0.9",
            "text/plain": [
              "[1] 0.9"
            ]
          },
          "metadata": {}
        }
      ],
      "source": [
        "# Вероятность того, что программа не будет выполнена сразу же,\n",
        "# как только она поступила на терминал\n",
        "P <- 1 - P0\n",
        "P"
      ]
    },
    {
      "cell_type": "code",
      "execution_count": null,
      "metadata": {
        "id": "afZsSIlzEoVC",
        "colab": {
          "base_uri": "https://localhost:8080/",
          "height": 34
        },
        "outputId": "d5a33493-ee28-4f07-f443-1ba4ac9fa4d9"
      },
      "outputs": [
        {
          "output_type": "display_data",
          "data": {
            "text/html": [
              "27"
            ],
            "text/markdown": "27",
            "text/latex": "27",
            "text/plain": [
              "[1] 27"
            ]
          },
          "metadata": {}
        }
      ],
      "source": [
        "# Cреднее время до получения пользователем результатов реализации\n",
        "Wq <- y^2/(lambda*(1 - y))\n",
        "Wq"
      ]
    },
    {
      "cell_type": "code",
      "execution_count": null,
      "metadata": {
        "id": "Pkln10kdE6m7",
        "colab": {
          "base_uri": "https://localhost:8080/",
          "height": 34
        },
        "outputId": "37ba3f01-2ce8-4275-c851-ebddb4dd1662"
      },
      "outputs": [
        {
          "output_type": "display_data",
          "data": {
            "text/html": [
              "8.1"
            ],
            "text/markdown": "8.1",
            "text/latex": "8.1",
            "text/plain": [
              "[1] 8.1"
            ]
          },
          "metadata": {}
        }
      ],
      "source": [
        "# Среднее количество программ, ожидающих выполнения на сервере\n",
        "Lq <- lambda * Wq\n",
        "Lq"
      ]
    },
    {
      "cell_type": "markdown",
      "metadata": {
        "id": "-b3x59HQqwBx"
      },
      "source": [
        "#### Эксперементальная часть"
      ]
    },
    {
      "cell_type": "markdown",
      "source": [
        "Для проведения эксперимента библиотеку для дискретно-событийного моделирования [simmer](https://r-simmer.org/index.html)"
      ],
      "metadata": {
        "id": "LO2bx7Q_zOYu"
      }
    },
    {
      "cell_type": "code",
      "source": [
        "# Установка библиотеки\n",
        "install.packages(\"simmer\", dependencies = TRUE)"
      ],
      "metadata": {
        "colab": {
          "base_uri": "https://localhost:8080/"
        },
        "id": "VzcAcIPYK0Va",
        "outputId": "7242afc6-fec7-423d-8b90-097b8380a70c"
      },
      "execution_count": null,
      "outputs": [
        {
          "output_type": "stream",
          "name": "stderr",
          "text": [
            "Installing package into ‘/usr/local/lib/R/site-library’\n",
            "(as ‘lib’ is unspecified)\n",
            "\n",
            "Warning message in install.packages(\"simmer\", dependencies = TRUE):\n",
            "“installation of package ‘simmer’ had non-zero exit status”\n"
          ]
        }
      ]
    },
    {
      "cell_type": "code",
      "source": [
        "# Подключение библиотеки\n",
        "library(\"simmer\")"
      ],
      "metadata": {
        "id": "1mFhrycHQZJF"
      },
      "execution_count": null,
      "outputs": []
    },
    {
      "cell_type": "code",
      "source": [
        "set.seed(Variant)\n",
        "\n",
        "# Создание траектории программ\n",
        "m.queue <- trajectory() %>%\n",
        "  seize(\"server\", amount=1) %>% # Занятие сервера\n",
        "  timeout(function() rexp(1, mu)) %>% # Обслуживание программы\n",
        "  release(\"server\", amount=1) # Освобождение сервера\n",
        "\n",
        "# Создание окружения симуляции\n",
        "mm.env <- simmer() %>%\n",
        "  add_resource(\"server\", capacity=1, queue_size=Inf) %>% # Создание ресурса \"Сервер\"\n",
        "  add_generator(\"program\", m.queue, function() rexp(1, lambda)) %>% # Создание потока программ\n",
        "  run(until=10250)\n",
        "\n",
        "# Проведение 7500 экспериментов\n",
        "mm.envs <- lapply(1:5000, function(i) {mm.env})"
      ],
      "metadata": {
        "id": "Gr-dGgTMTJSE"
      },
      "execution_count": null,
      "outputs": []
    },
    {
      "cell_type": "code",
      "source": [
        "# Вероятность того, что программа не будет выполнена сразу же,\n",
        "# как только она поступила на терминал\n",
        "serverData <- get_mon_resources(mm.envs)\n",
        "sum(serverData$server == 1)/length(serverData$server)"
      ],
      "metadata": {
        "colab": {
          "base_uri": "https://localhost:8080/",
          "height": 34
        },
        "id": "uGcBottVVnsQ",
        "outputId": "eee089dd-cf1f-4f77-fbb6-6d967e2fa436"
      },
      "execution_count": null,
      "outputs": [
        {
          "output_type": "display_data",
          "data": {
            "text/html": [
              "0.952041477640959"
            ],
            "text/markdown": "0.952041477640959",
            "text/latex": "0.952041477640959",
            "text/plain": [
              "[1] 0.9520415"
            ]
          },
          "metadata": {}
        }
      ]
    },
    {
      "cell_type": "code",
      "source": [
        "# Cреднее время до получения пользователем результатов реализации\n",
        "programsData <- get_mon_arrivals(mm.envs)\n",
        "mean(programsData$end_time - programsData$start_time)"
      ],
      "metadata": {
        "colab": {
          "base_uri": "https://localhost:8080/",
          "height": 34
        },
        "id": "5iY2i6LXT3s7",
        "outputId": "bf38c72b-f4f3-4051-f948-19e4bc13809d"
      },
      "execution_count": null,
      "outputs": [
        {
          "output_type": "display_data",
          "data": {
            "text/html": [
              "28.3590236389626"
            ],
            "text/markdown": "28.3590236389626",
            "text/latex": "28.3590236389626",
            "text/plain": [
              "[1] 28.35902"
            ]
          },
          "metadata": {}
        }
      ]
    },
    {
      "cell_type": "code",
      "source": [
        "# Среднее количество программ, ожидающих выполнения на сервере\n",
        "mean(serverData$queue)"
      ],
      "metadata": {
        "colab": {
          "base_uri": "https://localhost:8080/",
          "height": 34
        },
        "id": "pEFQ54yNUXE3",
        "outputId": "a2bea3f4-6bbf-4807-b5eb-85f46fe6974e"
      },
      "execution_count": null,
      "outputs": [
        {
          "output_type": "display_data",
          "data": {
            "text/html": [
              "8.0599481529488"
            ],
            "text/markdown": "8.0599481529488",
            "text/latex": "8.0599481529488",
            "text/plain": [
              "[1] 8.059948"
            ]
          },
          "metadata": {}
        }
      ]
    },
    {
      "cell_type": "markdown",
      "source": [
        "### Дополнительное задание"
      ],
      "metadata": {
        "id": "sqOoHk43gbGT"
      }
    },
    {
      "cell_type": "code",
      "source": [
        "# Генерация начальных условий\n",
        "Variant <- 2\n",
        "set.seed(Variant) \n",
        "pp <- runif(3)\n",
        "p1 <- pp[1]/sum(pp)\n",
        "p2 <- pp[2]/sum(pp)\n",
        "p3 <- pp[3]/sum(pp)\n",
        "k <- sample(c(4:8), 1)\n",
        "m <- sample(c(1:k), 1)\n",
        "View(data.frame(p1, p2, p3, k, m))"
      ],
      "metadata": {
        "colab": {
          "base_uri": "https://localhost:8080/",
          "height": 129
        },
        "id": "1PWMzDkVgfLy",
        "outputId": "5f3c1756-9bc8-4fdf-fccb-39069a689b07"
      },
      "execution_count": null,
      "outputs": [
        {
          "output_type": "display_data",
          "data": {
            "text/plain": [
              "  p1        p2        p3        k m\n",
              "1 0.1265812 0.4808862 0.3925326 4 1"
            ],
            "text/html": [
              "<table class=\"dataframe\">\n",
              "<caption>A data.frame: 1 × 5</caption>\n",
              "<thead>\n",
              "\t<tr><th scope=col>p1</th><th scope=col>p2</th><th scope=col>p3</th><th scope=col>k</th><th scope=col>m</th></tr>\n",
              "\t<tr><th scope=col>&lt;dbl&gt;</th><th scope=col>&lt;dbl&gt;</th><th scope=col>&lt;dbl&gt;</th><th scope=col>&lt;int&gt;</th><th scope=col>&lt;int&gt;</th></tr>\n",
              "</thead>\n",
              "<tbody>\n",
              "\t<tr><td>0.1265812</td><td>0.4808862</td><td>0.3925326</td><td>4</td><td>1</td></tr>\n",
              "</tbody>\n",
              "</table>\n"
            ],
            "text/markdown": "\nA data.frame: 1 × 5\n\n| p1 &lt;dbl&gt; | p2 &lt;dbl&gt; | p3 &lt;dbl&gt; | k &lt;int&gt; | m &lt;int&gt; |\n|---|---|---|---|---|\n| 0.1265812 | 0.4808862 | 0.3925326 | 4 | 1 |\n\n",
            "text/latex": "A data.frame: 1 × 5\n\\begin{tabular}{lllll}\n p1 & p2 & p3 & k & m\\\\\n <dbl> & <dbl> & <dbl> & <int> & <int>\\\\\n\\hline\n\t 0.1265812 & 0.4808862 & 0.3925326 & 4 & 1\\\\\n\\end{tabular}\n"
          },
          "metadata": {}
        }
      ]
    },
    {
      "cell_type": "markdown",
      "source": [
        "#### Теоритический метод"
      ],
      "metadata": {
        "id": "yHeh9gFRlXaK"
      }
    },
    {
      "cell_type": "markdown",
      "source": [
        "Для расчёта веровятности рассмотрим следуюшие варианты пребывания точки на расстоянии не более единицы за четыре шага:\n",
        "\n",
        "- Точка 4 раза стояла\n",
        "- Точка 3 раза стояла и сделала шаг\n",
        "- Точка 2 раза стояла, сделала шаг влево и шаг вправо\n",
        "- Точка стояла 1 раз, сделала 2 шага в одну сторону и один в противоположную\n",
        "- Точка сделала два шага влево и два шага вправо\n",
        "\n",
        "Действия описанные в каждом пункте, кроме первого, можно выполнять в разном порядке, что мы учтём с помощью формулы перестановки с повторениями:\n",
        "\n",
        "$\\overline{P}(k_1, k_2, k_3) = \\frac{(k_1 + k_2 + k_3)!}{k_1! ⋅ k_2! ⋅ k_3!}$"
      ],
      "metadata": {
        "id": "t0Rp05kVvLFS"
      }
    },
    {
      "cell_type": "code",
      "source": [
        "# Вероятность, что точка после k шагов окажется на расстоянии не более m\n",
        "p1^4 + 4*p1^3*p2 + 4*p1^3*p3 + 6*p2^2*p3^2 + 12*p2^2*p3*p1 + 12*p3^2*p2*p1 + 12*p1^2*p2*p3"
      ],
      "metadata": {
        "colab": {
          "base_uri": "https://localhost:8080/",
          "height": 34
        },
        "id": "r9LewYQuqa6l",
        "outputId": "838ea92c-8c6d-49e9-e88d-d014f3508852"
      },
      "execution_count": null,
      "outputs": [
        {
          "output_type": "display_data",
          "data": {
            "text/html": [
              "0.507859448963803"
            ],
            "text/markdown": "0.507859448963803",
            "text/latex": "0.507859448963803",
            "text/plain": [
              "[1] 0.5078594"
            ]
          },
          "metadata": {}
        }
      ]
    },
    {
      "cell_type": "markdown",
      "source": [
        "#### Численный метод"
      ],
      "metadata": {
        "id": "HAjNsIFJiBde"
      }
    },
    {
      "cell_type": "code",
      "source": [
        "# Функция проведения одиночного эксперимента\n",
        "conductexperiment <- function(K)\n",
        "{\n",
        "  resstates <- c()\n",
        "  curstate <- 0 # Начальное состояние\n",
        "\n",
        "  for(i in 1:K)\n",
        "  {\n",
        "    prob <- runif(1)\n",
        "\n",
        "    if(prob <= p1) curstate <- curstate\n",
        "    else if(prob > p1 & prob <= p1 + p2) curstate <- curstate + 1\n",
        "    else if(prob > p1 + p2 & prob <= 1) curstate <- curstate - 1\n",
        "\n",
        "    resstates <- append(resstates, curstate)\n",
        "  }\n",
        "  return(resstates)\n",
        "}"
      ],
      "metadata": {
        "id": "ryYc_ZS9h_1n"
      },
      "execution_count": null,
      "outputs": []
    },
    {
      "cell_type": "code",
      "source": [
        "# Проведение экпериментов\n",
        "resdata <- data.frame()\n",
        "N <- 100000 # Число экспериментов\n",
        "\n",
        "for (i in 1:N)\n",
        "{\n",
        "  resvector <- c(0)\n",
        "  res <- conductexperiment(k)\n",
        "  resvector <- append(resvector, res)\n",
        "  resdata <- rbind(resdata, resvector)\n",
        "}\n",
        "\n",
        "colnames(resdata) <- c(0:4)\n",
        "rownames(resdata) <- c(1:N)"
      ],
      "metadata": {
        "id": "OkEEqf-BjWxi"
      },
      "execution_count": null,
      "outputs": []
    },
    {
      "cell_type": "code",
      "source": [
        "# Вероятность, что точка после k шагов окажется на расстоянии не более m\n",
        "sum(abs(resdata$\"4\") <= m)/length(resdata$\"4\")"
      ],
      "metadata": {
        "colab": {
          "base_uri": "https://localhost:8080/",
          "height": 34
        },
        "id": "V2QpRZQzjmox",
        "outputId": "5e4fcbc1-703b-4290-8939-5d7f8f7503ff"
      },
      "execution_count": null,
      "outputs": [
        {
          "output_type": "display_data",
          "data": {
            "text/html": [
              "0.50664"
            ],
            "text/markdown": "0.50664",
            "text/latex": "0.50664",
            "text/plain": [
              "[1] 0.50664"
            ]
          },
          "metadata": {}
        }
      ]
    }
  ],
  "metadata": {
    "colab": {
      "provenance": []
    },
    "gpuClass": "standard",
    "kernelspec": {
      "display_name": "R",
      "name": "ir"
    },
    "language_info": {
      "name": "R"
    }
  },
  "nbformat": 4,
  "nbformat_minor": 0
}