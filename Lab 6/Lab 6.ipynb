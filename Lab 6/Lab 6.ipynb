{
  "nbformat": 4,
  "nbformat_minor": 0,
  "metadata": {
    "colab": {
      "provenance": []
    },
    "kernelspec": {
      "name": "ir",
      "display_name": "R"
    },
    "language_info": {
      "name": "R"
    }
  },
  "cells": [
    {
      "cell_type": "markdown",
      "source": [
        "# Лабораторная работа 6. Метод квазиэквивалентного укрупнения состояний многомерных марковских процессов размножения-гибели\n",
        "\n",
        "## Вариант 2\n",
        "\n",
        "##### Выполнил: Борисочкин М. И. РТ5-81Б"
      ],
      "metadata": {
        "id": "i2xUIiur2n4Y"
      }
    },
    {
      "cell_type": "code",
      "execution_count": null,
      "metadata": {
        "colab": {
          "base_uri": "https://localhost:8080/",
          "height": 129
        },
        "id": "q8kd2kc92kh7",
        "outputId": "42bb173a-f67a-4b45-c977-fbe8ac507cc0"
      },
      "outputs": [
        {
          "output_type": "display_data",
          "data": {
            "text/plain": [
              "  K M N lambda    mu        nu       p        m1 m2\n",
              "1 3 3 2 0.1680519 0.9438393 0.943475 0.129159 1  1 "
            ],
            "text/html": [
              "<table class=\"dataframe\">\n",
              "<caption>A data.frame: 1 × 9</caption>\n",
              "<thead>\n",
              "\t<tr><th scope=col>K</th><th scope=col>M</th><th scope=col>N</th><th scope=col>lambda</th><th scope=col>mu</th><th scope=col>nu</th><th scope=col>p</th><th scope=col>m1</th><th scope=col>m2</th></tr>\n",
              "\t<tr><th scope=col>&lt;int&gt;</th><th scope=col>&lt;int&gt;</th><th scope=col>&lt;int&gt;</th><th scope=col>&lt;dbl&gt;</th><th scope=col>&lt;dbl&gt;</th><th scope=col>&lt;dbl&gt;</th><th scope=col>&lt;dbl&gt;</th><th scope=col>&lt;int&gt;</th><th scope=col>&lt;int&gt;</th></tr>\n",
              "</thead>\n",
              "<tbody>\n",
              "\t<tr><td>3</td><td>3</td><td>2</td><td>0.1680519</td><td>0.9438393</td><td>0.943475</td><td>0.129159</td><td>1</td><td>1</td></tr>\n",
              "</tbody>\n",
              "</table>\n"
            ],
            "text/markdown": "\nA data.frame: 1 × 9\n\n| K &lt;int&gt; | M &lt;int&gt; | N &lt;int&gt; | lambda &lt;dbl&gt; | mu &lt;dbl&gt; | nu &lt;dbl&gt; | p &lt;dbl&gt; | m1 &lt;int&gt; | m2 &lt;int&gt; |\n|---|---|---|---|---|---|---|---|---|\n| 3 | 3 | 2 | 0.1680519 | 0.9438393 | 0.943475 | 0.129159 | 1 | 1 |\n\n",
            "text/latex": "A data.frame: 1 × 9\n\\begin{tabular}{lllllllll}\n K & M & N & lambda & mu & nu & p & m1 & m2\\\\\n <int> & <int> & <int> & <dbl> & <dbl> & <dbl> & <dbl> & <int> & <int>\\\\\n\\hline\n\t 3 & 3 & 2 & 0.1680519 & 0.9438393 & 0.943475 & 0.129159 & 1 & 1\\\\\n\\end{tabular}\n"
          },
          "metadata": {}
        }
      ],
      "source": [
        "# Генерация начальных условий\n",
        "Variant <- 2\n",
        "set.seed(Variant)\n",
        "\n",
        "K <- sample(c(3:6), 1)\n",
        "M <- sample(c(1:3), 1)\n",
        "N <- sample(c(1:3), 1)\n",
        "lambda <- runif(1)\n",
        "mu <- runif(1)\n",
        "nu <- runif(1)\n",
        "p <- runif(1)\n",
        "m1 <- sample(c(1:2), 1)\n",
        "m2 <- sample(c(1:2), 1)\n",
        "View(data.frame(K, M, N, lambda, mu, nu, p, m1, m2))"
      ]
    },
    {
      "cell_type": "markdown",
      "source": [
        "Граф состояний\n",
        "\n",
        "![image](https://raw.githubusercontent.com/RDcool/BMSTU_AHP/main/Lab%206/State%20graph.svg)"
      ],
      "metadata": {
        "id": "ch5wvFAzBFeK"
      }
    },
    {
      "cell_type": "markdown",
      "source": [
        "Состояния обозначаются следующим образом:\n",
        "\n",
        "$S_{KNm_1M}$, где\n",
        "\n",
        "$K$ — количество программистов, пищущих в данный момент программы,\n",
        "\n",
        "$N$ — количество компьютеров, в данный момент осуществляющих проверку программ на вирусы,\n",
        "\n",
        "$m_1$ — текущая длина очереди к специальному компьютеру,\n",
        "\n",
        "$M$ — Количество серверов, выполняющих в данный момент программу программиста.\n",
        "\n",
        "Длина очереди к серверам $m_2$ не учитывается, так как всегда равна 0 ($K$ = $M$ = 3)."
      ],
      "metadata": {
        "id": "5nnX7P1FBI9a"
      }
    },
    {
      "cell_type": "markdown",
      "source": [
        "Уравнения Колмогорова:\n",
        "\n",
        "$\n",
        "\\begin{cases}\n",
        "\\frac{dP_{3000}(t)}{dt} = pνP_{2100} + μP_{2001} - 3λP_{3000}\\\\\n",
        "\\frac{dP_{2100}(t)}{dt} = 3λP_{3000} + 2pνP_{1200} + μP_{1101} - 2λP_{2100} - νP_{2100}\\\\\n",
        "\\frac{dP_{1200}(t)}{dt} = 2λP_{2100} + 2pνP_{0210} + μP_{0201} - λP_{1200} - 2νP_{1200} \\\\\n",
        "\\frac{dP_{0210}(t)}{dt} = λP_{1200} - 2νP_{0210} \\\\\n",
        "\\frac{dP_{2001}(t)}{dt} =  (1 - p)νP_{2100} + pνP_{1101} + 2μP_{1002} - 2λP_{2001} - μP_{2001}\\\\\n",
        "\\frac{dP_{1101}(t)}{dt} =  2λP_{2001} + 2μP_{0102} + 2(1 - p)νP_{1200} + 2pνP_{0201}  - λP_{1101} - μP_{1101} - νP_{1101}\\\\\n",
        "\\frac{dP_{0201}(t)}{dt} =  λP_{1101} + 2(1 - p)νP_{0210} - μP_{0201} - 2νP_{0201}\\\\\n",
        "\\frac{dP_{1002}(t)}{dt} = (1 - p)νP_{1101} + pνP_{0102} + 3μP_{0003} - λP_{1002} - 2μP_{1002}\\\\\n",
        "\\frac{dP_{0102}(t)}{dt} = λP_{1002} + 2(1 - p)νP_{0201} - 2μP_{0102}  - νP_{0102}\\\\\n",
        "\\frac{dP_{0003}(t)}{dt} = (1 - p)νP_{0102} - 3μP_{0003} \n",
        "\\end{cases}\n",
        "$"
      ],
      "metadata": {
        "id": "U2kk_FEMCrfL"
      }
    },
    {
      "cell_type": "markdown",
      "source": [
        "Уравнения финальных вероятностей:\n",
        "\n",
        "$\n",
        "\\begin{cases}\n",
        "pνP_{2100} + μP_{2001} - 3λP_{3000} = 0\\\\\n",
        "3λP_{3000} + 2pνP_{1200} + μP_{1101} - (2λ + ν)P_{2100} = 0\\\\\n",
        "2λP_{2100} + 2pνP_{0210} + μP_{0201} - (λ + 2ν)P_{1200} = 0\\\\\n",
        "λP_{1200} - 2νP_{0210} = 0\\\\\n",
        "(1 - p)νP_{2100} + pνP_{1101} + 2μP_{1002} - (2λ + μ)P_{2001} = 0\\\\\n",
        "2λP_{2001} + 2(1 - p)νP_{1200} + 2pνP_{0201} + 2μP_{0102}  - (λ  + μ + ν)P_{1101} = 0\\\\\n",
        "λP_{1101} + 2(1 - p)νP_{0210} - (μ + 2ν)P_{0201} = 0\\\\\n",
        "(1 - p)νP_{1101} + pνP_{0102} + 3μP_{0003} - (λ + 2μ)P_{1002} = 0\\\\\n",
        "λP_{1002} + 2(1 - p)νP_{0201}  - (2μ + ν)P_{0102} = 0\\\\\n",
        "(1 - p)νP_{0102} - 3μP_{0003}  = 0\n",
        "\\end{cases}\n",
        "$\n"
      ],
      "metadata": {
        "id": "bMg0N2BkPrC-"
      }
    },
    {
      "cell_type": "markdown",
      "source": [
        "### Решение по уравнениям Колмогорова"
      ],
      "metadata": {
        "id": "XAD8HOsNRUkW"
      }
    },
    {
      "cell_type": "markdown",
      "source": [
        "Заменим пятое уравнение из систему уравнений финальных вероятностей на условие нормировки:\n",
        "\n",
        "$\n",
        "\\begin{cases}\n",
        "pνP_{2100} + μP_{2001} - 3λP_{3000} = 0\\\\\n",
        "3λP_{3000} + 2pνP_{1200} + μP_{1101} - (2λ + ν)P_{2100} = 0\\\\\n",
        "2λP_{2100} + 2pνP_{0210} + μP_{0201} - (λ + 2ν)P_{1200} = 0\\\\\n",
        "λP_{1200} - 2νP_{0210} = 0\\\\\n",
        "P_{3000} + P_{2100} + P_{1200} + P_{0210} + P_{2001} + P_{1101} + P_{0201} + P_{1002} + P_{0102} + P_{0003} = 1\\\\\n",
        "2λP_{2001} + 2(1 - p)νP_{1200} + 2pνP_{0201} + 2μP_{0102}  - (λ + μ + ν)P_{1101} = 0\\\\\n",
        "λP_{1101} + 2(1 - p)νP_{0210} - (μ + 2ν)P_{0201} = 0\\\\\n",
        "(1 - p)νP_{1101} + pνP_{0102} + 3μP_{0003} - (λ + 2μ)P_{1002} = 0\\\\\n",
        "λP_{1002} + 2(1 - p)νP_{0201}  - (2μ + ν)P_{0102} = 0\\\\\n",
        "(1 - p)νP_{0102} - 3μP_{0003}  = 0\n",
        "\\end{cases}\n",
        "$"
      ],
      "metadata": {
        "id": "iSy7BAiTRbMl"
      }
    },
    {
      "cell_type": "markdown",
      "source": [
        "Решим данную систему уравнений с помощью функции solve"
      ],
      "metadata": {
        "id": "wsPQ5E3QSEI1"
      }
    },
    {
      "cell_type": "code",
      "source": [
        "# Матрица коэффициентов\n",
        "A <- matrix(c(-3*lambda, p*nu, 0, 0, mu, 0, 0, 0, 0, 0,\n",
        "              3*lambda, -(2*lambda + nu), 2*p*nu, 0, 0, mu, 0, 0 , 0, 0,\n",
        "              0, 2*lambda, -(lambda + 2*nu), 2*p*nu, 0, 0, mu, 0, 0, 0,\n",
        "              0, 0, lambda, -2*nu, 0, 0, 0, 0, 0, 0,\n",
        "              0, 0, 2*(1 - p)*nu, 0, 2*lambda, -(lambda +  mu + nu), 2*p*nu, 0, 2*mu, 0,\n",
        "              0, 0, 0, 2*(1 - p)*nu, 0, lambda, -(mu + 2*nu), 0, 0, 0,\n",
        "              0, 0, 0, 0, 0, (1 - p)* nu, 0, -(lambda + 2*mu), p*nu, 3*mu,\n",
        "              0, 0, 0, 0, 0, 0, 2*(1 - p)*nu, lambda, -(2*mu + nu), 0,\n",
        "              0, 0, 0, 0, 0, 0, 0, 0, (1 - p)*nu, -3*mu,\n",
        "              1, 1, 1, 1, 1, 1, 1, 1, 1, 1), nrow = 10, byrow = TRUE)\n",
        "\n",
        "# Вектор свободных членов\n",
        "B <- c(rep(0, 9), 1)\n",
        "\n",
        "# Решение уравнения\n",
        "solInf <- solve(A, B)\n",
        "\n",
        "# Формирование ответа \n",
        "solInfDF <- as.data.frame(solInf)\n",
        "solInfDF <- t(solInfDF)\n",
        "colnames(solInfDF) <- c(\"P3000\", \"P2100\", \"P1200\", \"P0210\", \"P2001\", \"P1101\", \"P0201\", \"P1002\", \"P0102\", \"P0003\")\n",
        "rownames(solInfDF) <- \"\"\n",
        "solInfDF"
      ],
      "metadata": {
        "colab": {
          "base_uri": "https://localhost:8080/",
          "height": 98
        },
        "id": "hnR1Y8ClSSb9",
        "outputId": "cc2e95b3-aba6-4179-c6e2-ae861d60e943"
      },
      "execution_count": null,
      "outputs": [
        {
          "output_type": "display_data",
          "data": {
            "text/html": [
              "<table class=\"dataframe\">\n",
              "<caption>A matrix: 1 × 10 of type dbl</caption>\n",
              "<thead>\n",
              "\t<tr><th></th><th scope=col>P3000</th><th scope=col>P2100</th><th scope=col>P1200</th><th scope=col>P0210</th><th scope=col>P2001</th><th scope=col>P1101</th><th scope=col>P0201</th><th scope=col>P1002</th><th scope=col>P0102</th><th scope=col>P0003</th></tr>\n",
              "</thead>\n",
              "<tbody>\n",
              "\t<tr><th scope=row></th><td>0.421523</td><td>0.2252453</td><td>0.04012072</td><td>0.003573155</td><td>0.1960771</td><td>0.06985057</td><td>0.006220897</td><td>0.03040263</td><td>0.005415321</td><td>0.001571354</td></tr>\n",
              "</tbody>\n",
              "</table>\n"
            ],
            "text/markdown": "\nA matrix: 1 × 10 of type dbl\n\n| <!--/--> | P3000 | P2100 | P1200 | P0210 | P2001 | P1101 | P0201 | P1002 | P0102 | P0003 |\n|---|---|---|---|---|---|---|---|---|---|---|\n| <!----> | 0.421523 | 0.2252453 | 0.04012072 | 0.003573155 | 0.1960771 | 0.06985057 | 0.006220897 | 0.03040263 | 0.005415321 | 0.001571354 |\n\n",
            "text/latex": "A matrix: 1 × 10 of type dbl\n\\begin{tabular}{r|llllllllll}\n  & P3000 & P2100 & P1200 & P0210 & P2001 & P1101 & P0201 & P1002 & P0102 & P0003\\\\\n\\hline\n\t & 0.421523 & 0.2252453 & 0.04012072 & 0.003573155 & 0.1960771 & 0.06985057 & 0.006220897 & 0.03040263 & 0.005415321 & 0.001571354\\\\\n\\end{tabular}\n",
            "text/plain": [
              " P3000    P2100     P1200      P0210       P2001     P1101      P0201      \n",
              " 0.421523 0.2252453 0.04012072 0.003573155 0.1960771 0.06985057 0.006220897\n",
              " P1002      P0102       P0003      \n",
              " 0.03040263 0.005415321 0.001571354"
            ]
          },
          "metadata": {}
        }
      ]
    },
    {
      "cell_type": "code",
      "source": [
        "# Сумма финальных вероятностей\n",
        "sum(solInfDF)"
      ],
      "metadata": {
        "colab": {
          "base_uri": "https://localhost:8080/",
          "height": 34
        },
        "id": "JS8kB0M4VzPE",
        "outputId": "c6ecb4bd-b498-4125-cd68-50ee130ae232"
      },
      "execution_count": null,
      "outputs": [
        {
          "output_type": "display_data",
          "data": {
            "text/html": [
              "1"
            ],
            "text/markdown": "1",
            "text/latex": "1",
            "text/plain": [
              "[1] 1"
            ]
          },
          "metadata": {}
        }
      ]
    },
    {
      "cell_type": "code",
      "source": [
        "# Среднее число заявок в системе\n",
        "Lsys <- (solInf[2] + solInf[5]) * 1 + (solInf[3] + solInf[6] + solInf[8]) * 2 + (solInf[4] + solInf[7] + solInf[9] + solInf[10]) * 3\n",
        "Lsys"
      ],
      "metadata": {
        "colab": {
          "base_uri": "https://localhost:8080/",
          "height": 34
        },
        "id": "m-BSVzSQW36D",
        "outputId": "3ee667c0-655b-4e37-fe4c-661940da7e9f"
      },
      "execution_count": null,
      "outputs": [
        {
          "output_type": "display_data",
          "data": {
            "text/html": [
              "0.752412355151635"
            ],
            "text/markdown": "0.752412355151635",
            "text/latex": "0.752412355151635",
            "text/plain": [
              "[1] 0.7524124"
            ]
          },
          "metadata": {}
        }
      ]
    },
    {
      "cell_type": "code",
      "source": [
        "# Абсолютная пропускная способность\n",
        "lambdaAbs <- sum(solInf[5:10])* mu\n",
        "lambdaAbs"
      ],
      "metadata": {
        "colab": {
          "base_uri": "https://localhost:8080/",
          "height": 34
        },
        "id": "ATTuk4ggZNXK",
        "outputId": "e1733915-d44d-451e-d7b1-8c3d1534432e"
      },
      "execution_count": null,
      "outputs": [
        {
          "output_type": "display_data",
          "data": {
            "text/html": [
              "0.292153998179572"
            ],
            "text/markdown": "0.292153998179572",
            "text/latex": "0.292153998179572",
            "text/plain": [
              "[1] 0.292154"
            ]
          },
          "metadata": {}
        }
      ]
    },
    {
      "cell_type": "code",
      "source": [
        "# Среднее время пребывания заявки в системе\n",
        "Tsys <- Lsys/(K - Lsys)/lambda\n",
        "Tsys"
      ],
      "metadata": {
        "colab": {
          "base_uri": "https://localhost:8080/",
          "height": 34
        },
        "id": "les5s-tbY1h5",
        "outputId": "7ab63d47-afc5-4654-ca2c-b625d8534a05"
      },
      "execution_count": null,
      "outputs": [
        {
          "output_type": "display_data",
          "data": {
            "text/html": [
              "1.99202966999945"
            ],
            "text/markdown": "1.99202966999945",
            "text/latex": "1.99202966999945",
            "text/plain": [
              "[1] 1.99203"
            ]
          },
          "metadata": {}
        }
      ]
    },
    {
      "cell_type": "markdown",
      "source": [
        "### Метод укрупнения состояний"
      ],
      "metadata": {
        "id": "YRKXFHazROft"
      }
    },
    {
      "cell_type": "markdown",
      "source": [
        "Разобьём исходную систему на две подсистемы."
      ],
      "metadata": {
        "id": "i4B1-CDbpKwS"
      }
    },
    {
      "cell_type": "markdown",
      "source": [
        "Граф состояний системы 1\n",
        "\n",
        "![image](https://raw.githubusercontent.com/RDcool/BMSTU_AHP/main/Lab%206/System%201.svg)"
      ],
      "metadata": {
        "id": "BOvYGfNZ8-iG"
      }
    },
    {
      "cell_type": "markdown",
      "source": [
        "Граф состояний системы 2\n",
        "\n",
        "![image](https://raw.githubusercontent.com/RDcool/BMSTU_AHP/main/Lab%206/System%202.svg)"
      ],
      "metadata": {
        "id": "xyKv7wM39EnA"
      }
    },
    {
      "cell_type": "markdown",
      "source": [
        "Для системы 2 число состояний заранее не определено и ограничивается значением $L_{сист}$, которое должно быть целым. Так как изначальная система замкнута и имеет всего трёх пользователей (программистов), то вторую систему мы будем рассматривать при $L_{сист} = l$, где $l = \\overline{1, 3}$."
      ],
      "metadata": {
        "id": "0EwqMQVYo_-g"
      }
    },
    {
      "cell_type": "code",
      "source": [
        "# Функция расчёта Мобщ при заданном Lсист заявок во второй системе\n",
        "estimateSystem2 <- function(Lsys2){\n",
        "  i <- c(0:(Lsys2 - 1))\n",
        "  j <- c(1:Lsys2)\n",
        "\n",
        "  nu2 <- sapply(i, function(x) nu*min(N, (Lsys2 - x)))\n",
        "  mu2 <- sapply(j, function(x) mu*min(M, x))\n",
        "\n",
        "  pi0 <- sapply(j, function(x) prod(nu2[1:x])/prod(mu2[1:x])) \n",
        "  pi0 <- (sum(pi0) + 1)^(-1)\n",
        "  piProb <- sapply(j, function(x) prod(nu2[1:x])/prod(mu2[1:x])*pi0) \n",
        "\n",
        "  muGeneral <- sum(piProb[j]*mu2[j])\n",
        "  return(muGeneral)\n",
        "}"
      ],
      "metadata": {
        "id": "wjepUiASwjjK"
      },
      "execution_count": null,
      "outputs": []
    },
    {
      "cell_type": "code",
      "source": [
        "# Функция расчёта показателей изначальной системы при заданном Мобщ\n",
        "estimateSystem1 <- function(muG){ \n",
        "  k <-(0:(K - 1))\n",
        "  P0 <- (sum((K - k)*lambda/muG) + 1)^(-1)\n",
        "  P <- (K - k)*lambda/muG * P0\n",
        "\n",
        "  l <- c(1:K)\n",
        "  LsysEnlargedStates <- sum(l*P[l])\n",
        "  lambdaAbsEnlargedStates <- muG\n",
        "  TsysEnlargedStates <- LsysEnlargedStates/((K - LsysEnlargedStates)*lambda)\n",
        "  return(c(LsysEnlargedStates, lambdaAbsEnlargedStates, TsysEnlargedStates))\n",
        "}"
      ],
      "metadata": {
        "id": "ZDQmtkWC1EoD"
      },
      "execution_count": null,
      "outputs": []
    },
    {
      "cell_type": "code",
      "source": [
        "# Проведение расчётов и вывод результатов\n",
        "EnlargedStatesResults <- data.frame()\n",
        "\n",
        "for(i in 1:3){\n",
        "  EnlargedStatesResults <- rbind(EnlargedStatesResults, \n",
        "  estimateSystem1(estimateSystem2(i)))\n",
        "}\n",
        "\n",
        "EnlargedStatesResults <- t(EnlargedStatesResults)\n",
        "theorRes <- data.frame(EnlargedStatesResults, c(Lsys, lambdaAbs, Tsys))\n",
        "rownames(theorRes) <- c(\"Среднее число заявок в системе\", \"Абсолютная пропускная способность\", \"Среднее время пребывания заявки в системе\")\n",
        "colnames(theorRes) <- c(\"Lsys2 = 1\", \"Lsys2 = 2\", \"Lsys2 = 3\", \"Уравнения Колмогорова\")\n",
        "\n",
        "theorRes"
      ],
      "metadata": {
        "colab": {
          "base_uri": "https://localhost:8080/",
          "height": 192
        },
        "id": "eyyNPNxf4JUe",
        "outputId": "c5e28c53-7722-48ea-b995-10a0e49ba4e9"
      },
      "execution_count": null,
      "outputs": [
        {
          "output_type": "display_data",
          "data": {
            "text/html": [
              "<table class=\"dataframe\">\n",
              "<caption>A data.frame: 3 × 4</caption>\n",
              "<thead>\n",
              "\t<tr><th></th><th scope=col>Lsys2 = 1</th><th scope=col>Lsys2 = 2</th><th scope=col>Lsys2 = 3</th><th scope=col>Уравнения Колмогорова</th></tr>\n",
              "\t<tr><th></th><th scope=col>&lt;dbl&gt;</th><th scope=col>&lt;dbl&gt;</th><th scope=col>&lt;dbl&gt;</th><th scope=col>&lt;dbl&gt;</th></tr>\n",
              "</thead>\n",
              "<tbody>\n",
              "\t<tr><th scope=row>Среднее число заявок в системе</th><td>1.1353785</td><td>0.8609356</td><td>0.7180209</td><td>0.7524124</td></tr>\n",
              "\t<tr><th scope=row>Абсолютная пропускная способность</th><td>0.4718286</td><td>0.9436571</td><td>1.3321764</td><td>0.2921540</td></tr>\n",
              "\t<tr><th scope=row>Среднее время пребывания заявки в системе</th><td>3.6233183</td><td>2.3949877</td><td>1.8723280</td><td>1.9920297</td></tr>\n",
              "</tbody>\n",
              "</table>\n"
            ],
            "text/markdown": "\nA data.frame: 3 × 4\n\n| <!--/--> | Lsys2 = 1 &lt;dbl&gt; | Lsys2 = 2 &lt;dbl&gt; | Lsys2 = 3 &lt;dbl&gt; | Уравнения Колмогорова &lt;dbl&gt; |\n|---|---|---|---|---|\n| Среднее число заявок в системе | 1.1353785 | 0.8609356 | 0.7180209 | 0.7524124 |\n| Абсолютная пропускная способность | 0.4718286 | 0.9436571 | 1.3321764 | 0.2921540 |\n| Среднее время пребывания заявки в системе | 3.6233183 | 2.3949877 | 1.8723280 | 1.9920297 |\n\n",
            "text/latex": "A data.frame: 3 × 4\n\\begin{tabular}{r|llll}\n  & Lsys2 = 1 & Lsys2 = 2 & Lsys2 = 3 & Уравнения Колмогорова\\\\\n  & <dbl> & <dbl> & <dbl> & <dbl>\\\\\n\\hline\n\tСреднее число заявок в системе & 1.1353785 & 0.8609356 & 0.7180209 & 0.7524124\\\\\n\tАбсолютная пропускная способность & 0.4718286 & 0.9436571 & 1.3321764 & 0.2921540\\\\\n\tСреднее время пребывания заявки в системе & 3.6233183 & 2.3949877 & 1.8723280 & 1.9920297\\\\\n\\end{tabular}\n",
            "text/plain": [
              "                                          Lsys2 = 1 Lsys2 = 2 Lsys2 = 3\n",
              "Среднее число заявок в системе            1.1353785 0.8609356 0.7180209\n",
              "Абсолютная пропускная способность         0.4718286 0.9436571 1.3321764\n",
              "Среднее время пребывания заявки в системе 3.6233183 2.3949877 1.8723280\n",
              "                                          Уравнения Колмогорова\n",
              "Среднее число заявок в системе            0.7524124            \n",
              "Абсолютная пропускная способность         0.2921540            \n",
              "Среднее время пребывания заявки в системе 1.9920297            "
            ]
          },
          "metadata": {}
        }
      ]
    },
    {
      "cell_type": "markdown",
      "source": [
        "Как видно из таблицы максимально близкий результат к показателям, полученный при решении уравнений Колмогорова для финальных вероятностей, получился при $L_{сист(2)} = 3$. Однако там сильно отличается абсолютная пропускная способность"
      ],
      "metadata": {
        "id": "kfTVRGKfqeVc"
      }
    },
    {
      "cell_type": "markdown",
      "source": [
        "### Экспериментальная часть"
      ],
      "metadata": {
        "id": "iix5e1XpRIlN"
      }
    },
    {
      "cell_type": "code",
      "source": [
        "# Установка библиотеки\n",
        "install.packages(\"simmer\")"
      ],
      "metadata": {
        "colab": {
          "base_uri": "https://localhost:8080/"
        },
        "id": "Va6DfQy4Y7L3",
        "outputId": "4110ca0c-10e2-4fec-93b2-815516d69d79"
      },
      "execution_count": null,
      "outputs": [
        {
          "output_type": "stream",
          "name": "stderr",
          "text": [
            "Installing package into ‘/usr/local/lib/R/site-library’\n",
            "(as ‘lib’ is unspecified)\n",
            "\n",
            "also installing the dependencies ‘Rcpp’, ‘BH’\n",
            "\n",
            "\n"
          ]
        }
      ]
    },
    {
      "cell_type": "code",
      "source": [
        "# Подключение библиотеки\n",
        "library(\"simmer\")"
      ],
      "metadata": {
        "id": "3kFSjMKTY_oz"
      },
      "execution_count": null,
      "outputs": []
    },
    {
      "cell_type": "code",
      "source": [
        "# Создание траектории программ\n",
        "m1.queue <- trajectory() %>%\n",
        "  deactivate(\"Programmer1|\") %>% # Программист ждёт выполнения\n",
        "  seize(\"antivirus\", amount=1) %>% # Занятие антивируса\n",
        "  timeout(function() rexp(1, nu)) %>% # Поиск вирусов в программе\n",
        "  release(\"antivirus\", amount=1) %>%# Освобождение антивируса\n",
        "  leave(p) %>% # Программа была с вирусом\n",
        "  seize(\"server\", amount=1) %>% # Занятие сервера\n",
        "  timeout(function() rexp(1, mu)) %>% # Обслуживание программы\n",
        "  release(\"server\", amount=1) %>% # Освобождение сервера\n",
        "  activate(\"Programmer1|\") # Программист снова пишет\n",
        "\n",
        "m2.queue <- trajectory() %>%\n",
        "  deactivate(\"Programmer2|\") %>% # Программист ждёт выполнения\n",
        "  seize(\"antivirus\", amount=1) %>% # Занятие антивируса\n",
        "  timeout(function() rexp(1, nu)) %>% # Поиск вирусов в программе\n",
        "  release(\"antivirus\", amount=1) %>%# Освобождение антивируса\n",
        "  leave(p) %>% # Программа была с вирусом\n",
        "  seize(\"server\", amount=1) %>% # Занятие сервера\n",
        "  timeout(function() rexp(1, mu)) %>% # Обслуживание программы\n",
        "  release(\"server\", amount=1) %>% # Освобождение сервера\n",
        "  activate(\"Programmer2|\") # Программист снова пишет\n",
        "\n",
        "m3.queue <- trajectory() %>%\n",
        "  deactivate(\"Programmer3|\") %>% # Программист ждёт выполнения\n",
        "  seize(\"antivirus\", amount=1) %>% # Занятие антивируса\n",
        "  timeout(function() rexp(1, nu)) %>% # Поиск вирусов в программе\n",
        "  release(\"antivirus\", amount=1) %>%# Освобождение антивируса\n",
        "  leave(p) %>% # Программа была с вирусом\n",
        "  seize(\"server\", amount=1) %>% # Занятие сервера\n",
        "  timeout(function() rexp(1, mu)) %>% # Обслуживание программы\n",
        "  release(\"server\", amount=1) %>% # Освобождение сервера\n",
        "  activate(\"Programmer3|\") # Программист снова пишет\n",
        "\n",
        "# Создание окружения симуляции\n",
        "mm.env <- simmer() %>%\n",
        "  add_resource(\"antivirus\", capacity=N, queue_size=m1) %>% # Создание ресурса \"Компьютер с антивирусом\"\n",
        "  add_resource(\"server\", capacity=M, queue_size=0) %>% # Создание ресурса \"Сервер\"\n",
        "  add_generator(\"Programmer1|\", m1.queue, function() rexp(1, lambda)) %>% # Создание генератора Программист 1\n",
        "  add_generator(\"Programmer2|\", m2.queue, function() rexp(1, lambda)) %>% # Создание генератора Программист 2\n",
        "  add_generator(\"Programmer3|\", m3.queue, function() rexp(1, lambda)) %>% # Создание генератора Программист 3\n",
        "  run(until=500000)\n",
        "\n",
        "# Проведение 500 экспериментов\n",
        "mm.envs <- lapply(1:500, function(i) {mm.env})"
      ],
      "metadata": {
        "id": "7zHYY0VGZBzJ"
      },
      "execution_count": null,
      "outputs": []
    },
    {
      "cell_type": "code",
      "source": [
        "# Среднее число заявок в системе\n",
        "resourceData <- get_mon_resources(mm.envs)\n",
        "(sum(resourceData$server + resourceData$queue))/length(resourceData$server)"
      ],
      "metadata": {
        "colab": {
          "base_uri": "https://localhost:8080/",
          "height": 34
        },
        "id": "Y0FleWQNf_yO",
        "outputId": "90dc84b5-0c9c-4625-ddb2-95acd577163f"
      },
      "execution_count": null,
      "outputs": [
        {
          "output_type": "display_data",
          "data": {
            "text/html": [
              "0.7"
            ],
            "text/markdown": "0.7",
            "text/latex": "0.7",
            "text/plain": [
              "[1] 0.7"
            ]
          },
          "metadata": {}
        }
      ]
    },
    {
      "cell_type": "code",
      "source": [
        "# Абсолютная ппропускная способность\n",
        "resourceDataServer <- resourceData[resourceData$resource == \"server\",]\n",
        "(sum(resourceDataServer$server > 0)/length(resourceDataServer$server))*mu"
      ],
      "metadata": {
        "colab": {
          "base_uri": "https://localhost:8080/",
          "height": 34
        },
        "id": "1aZrhnkSiwO2",
        "outputId": "26c83449-981e-4ec6-e647-12e605a06d1d"
      },
      "execution_count": null,
      "outputs": [
        {
          "output_type": "display_data",
          "data": {
            "text/html": [
              "0.56180913026245"
            ],
            "text/markdown": "0.56180913026245",
            "text/latex": "0.56180913026245",
            "text/plain": [
              "[1] 0.5618091"
            ]
          },
          "metadata": {}
        }
      ]
    },
    {
      "cell_type": "code",
      "source": [
        "# Среднее время пребывания заявки в системе\n",
        "programsData <- get_mon_arrivals(mm.envs)\n",
        "mean(programsData$end_time - programsData$start_time )"
      ],
      "metadata": {
        "colab": {
          "base_uri": "https://localhost:8080/",
          "height": 34
        },
        "id": "jxKiS1F-esb7",
        "outputId": "6837696c-eb6f-4006-9d3b-19faa7dca1a6"
      },
      "execution_count": null,
      "outputs": [
        {
          "output_type": "display_data",
          "data": {
            "text/html": [
              "1.77357233995504"
            ],
            "text/markdown": "1.77357233995504",
            "text/latex": "1.77357233995504",
            "text/plain": [
              "[1] 1.773572"
            ]
          },
          "metadata": {}
        }
      ]
    }
  ]
}