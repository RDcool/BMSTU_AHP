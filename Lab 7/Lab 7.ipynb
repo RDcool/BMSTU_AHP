{
  "nbformat": 4,
  "nbformat_minor": 0,
  "metadata": {
    "colab": {
      "provenance": []
    },
    "kernelspec": {
      "name": "ir",
      "display_name": "R"
    },
    "language_info": {
      "name": "R"
    }
  },
  "cells": [
    {
      "cell_type": "markdown",
      "source": [
        "# Лабораторная работа 7. Управление ресурсами в однопроцессорной системе с неоднородными заявками\n",
        "\n",
        "## Вариант 2\n",
        "\n",
        "##### Выполнил: Борисочкин М. И. РТ5-81Б"
      ],
      "metadata": {
        "id": "1bttpkQyTUxO"
      }
    },
    {
      "cell_type": "code",
      "execution_count": null,
      "metadata": {
        "colab": {
          "base_uri": "https://localhost:8080/",
          "height": 164
        },
        "id": "JlsOe13HTQtA",
        "outputId": "d2c5122d-7fc7-4194-9ccc-928b7dd7f5ce"
      },
      "outputs": [
        {
          "output_type": "display_data",
          "data": {
            "text/plain": [
              "  m  q lambda  \n",
              "1 10 3 1.434511"
            ],
            "text/html": [
              "<table class=\"dataframe\">\n",
              "<caption>A data.frame: 1 × 3</caption>\n",
              "<thead>\n",
              "\t<tr><th scope=col>m</th><th scope=col>q</th><th scope=col>lambda</th></tr>\n",
              "\t<tr><th scope=col>&lt;int&gt;</th><th scope=col>&lt;int&gt;</th><th scope=col>&lt;dbl&gt;</th></tr>\n",
              "</thead>\n",
              "<tbody>\n",
              "\t<tr><td>10</td><td>3</td><td>1.434511</td></tr>\n",
              "</tbody>\n",
              "</table>\n"
            ],
            "text/markdown": "\nA data.frame: 1 × 3\n\n| m &lt;int&gt; | q &lt;int&gt; | lambda &lt;dbl&gt; |\n|---|---|---|\n| 10 | 3 | 1.434511 |\n\n",
            "text/latex": "A data.frame: 1 × 3\n\\begin{tabular}{lll}\n m & q & lambda\\\\\n <int> & <int> & <dbl>\\\\\n\\hline\n\t 10 & 3 & 1.434511\\\\\n\\end{tabular}\n"
          },
          "metadata": {}
        },
        {
          "output_type": "stream",
          "name": "stdout",
          "text": [
            " [1] 0.4888422 5.7690324 0.2984206 2.2229921 3.5812229 5.0387643 4.3809197\n",
            " [8] 0.5217676 2.4837299 4.1444845\n"
          ]
        }
      ],
      "source": [
        "# Генерация начальных условий\n",
        "Variant <- 2\n",
        "set.seed(Variant) \n",
        "\n",
        "m <- sample(c(6:20), 1)\n",
        "lambda <- runif(1, 0.1, 2)\n",
        "Q <- rexp(m, 0.3)\n",
        "q <- sample(c(1:4), 1)\n",
        "View(data.frame(m, q, lambda))\n",
        "print(Q)"
      ]
    },
    {
      "cell_type": "markdown",
      "source": [
        "### Теоритическая часть"
      ],
      "metadata": {
        "id": "9VR3mNJyUU76"
      }
    },
    {
      "cell_type": "code",
      "source": [
        "# Интенсивность обслуживания\n",
        "mu <- 1/mean(Q) \n",
        "mu"
      ],
      "metadata": {
        "colab": {
          "base_uri": "https://localhost:8080/",
          "height": 34
        },
        "id": "ESdY-3waUYT5",
        "outputId": "0d550038-756e-46b5-c4ad-b561f8c9e2b1"
      },
      "execution_count": null,
      "outputs": [
        {
          "output_type": "display_data",
          "data": {
            "text/html": [
              "0.345659837137368"
            ],
            "text/markdown": "0.345659837137368",
            "text/latex": "0.345659837137368",
            "text/plain": [
              "[1] 0.3456598"
            ]
          },
          "metadata": {}
        }
      ]
    },
    {
      "cell_type": "code",
      "source": [
        "# Нагрузка системы\n",
        "y <- lambda/mu\n",
        "y"
      ],
      "metadata": {
        "colab": {
          "base_uri": "https://localhost:8080/",
          "height": 34
        },
        "id": "y8zzRAUmU08y",
        "outputId": "7f73153a-e064-476b-c06d-316e7bb95563"
      },
      "execution_count": null,
      "outputs": [
        {
          "output_type": "display_data",
          "data": {
            "text/html": [
              "4.1500646421658"
            ],
            "text/markdown": "4.1500646421658",
            "text/latex": "4.1500646421658",
            "text/plain": [
              "[1] 4.150065"
            ]
          },
          "metadata": {}
        }
      ]
    },
    {
      "cell_type": "markdown",
      "source": [
        "Так нагрузка системы ($y$) вышла бельше единицы, то изменим интенсивность входящего потока ($λ$)"
      ],
      "metadata": {
        "id": "NhCGHBvwbLk5"
      }
    },
    {
      "cell_type": "code",
      "source": [
        "# Новое значение интенсивности поступления программ\n",
        "set.seed(Variant) \n",
        "lambda <- runif(1, 0.1, 1)\n",
        "lambda"
      ],
      "metadata": {
        "colab": {
          "base_uri": "https://localhost:8080/",
          "height": 34
        },
        "id": "Ry9NYBzCdo9Y",
        "outputId": "7f6e2f85-0b3b-442b-94a6-cd982dfad7a3"
      },
      "execution_count": null,
      "outputs": [
        {
          "output_type": "display_data",
          "data": {
            "text/html": [
              "0.266394033934921"
            ],
            "text/markdown": "0.266394033934921",
            "text/latex": "0.266394033934921",
            "text/plain": [
              "[1] 0.266394"
            ]
          },
          "metadata": {}
        }
      ]
    },
    {
      "cell_type": "code",
      "source": [
        "# Нагрузка системы\n",
        "y <- lambda/mu\n",
        "y"
      ],
      "metadata": {
        "colab": {
          "base_uri": "https://localhost:8080/",
          "height": 34
        },
        "id": "nL9AmKLweEhp",
        "outputId": "82dffe03-c74c-4c87-82cb-3148a9c8001d"
      },
      "execution_count": null,
      "outputs": [
        {
          "output_type": "display_data",
          "data": {
            "text/html": [
              "0.770682634526191"
            ],
            "text/markdown": "0.770682634526191",
            "text/latex": "0.770682634526191",
            "text/plain": [
              "[1] 0.7706826"
            ]
          },
          "metadata": {}
        }
      ]
    },
    {
      "cell_type": "code",
      "source": [
        "# Cреднее время обслуживания программ\n",
        "Tsys <- 1/mu/(1 - y)\n",
        "Tsys"
      ],
      "metadata": {
        "colab": {
          "base_uri": "https://localhost:8080/",
          "height": 34
        },
        "id": "M2NyelHAACti",
        "outputId": "33b6f476-daa9-4d85-90ea-c7c2c0c77b03"
      },
      "execution_count": null,
      "outputs": [
        {
          "output_type": "display_data",
          "data": {
            "text/html": [
              "12.6157808234904"
            ],
            "text/markdown": "12.6157808234904",
            "text/latex": "12.6157808234904",
            "text/plain": [
              "[1] 12.61578"
            ]
          },
          "metadata": {}
        }
      ]
    },
    {
      "cell_type": "markdown",
      "source": [
        "### Экспериментальная часть"
      ],
      "metadata": {
        "id": "abW6K4D9AaFL"
      }
    },
    {
      "cell_type": "code",
      "source": [
        "# Установка библиотеки\n",
        "install.packages(\"simmer\", dependencies = TRUE)"
      ],
      "metadata": {
        "colab": {
          "base_uri": "https://localhost:8080/"
        },
        "id": "2cilXsZqAeBV",
        "outputId": "c4a373d7-a16c-49a6-c0c3-aad0bc439f6d"
      },
      "execution_count": null,
      "outputs": [
        {
          "output_type": "stream",
          "name": "stderr",
          "text": [
            "Installing package into ‘/usr/local/lib/R/site-library’\n",
            "(as ‘lib’ is unspecified)\n",
            "\n",
            "also installing the dependencies ‘gridExtra’, ‘downloader’, ‘htmlwidgets’, ‘igraph’, ‘influenceR’, ‘viridis’, ‘visNetwork’, ‘DiagrammeR’, ‘Rcpp’, ‘BH’, ‘simmer.plot’, ‘rticles’\n",
            "\n",
            "\n"
          ]
        }
      ]
    },
    {
      "cell_type": "code",
      "source": [
        "# Подключение библиотеки\n",
        "library(\"simmer\")"
      ],
      "metadata": {
        "id": "MMlV1309Ah6d"
      },
      "execution_count": null,
      "outputs": []
    },
    {
      "cell_type": "code",
      "source": [
        "set.seed(Variant)\n",
        "\n",
        "# Создание траектории программ\n",
        "m.queue <- trajectory() %>%\n",
        "  seize(\"server\", amount=1) %>% # Занятие сервера\n",
        "  timeout(function() rexp(1, mu)) %>% # Обслуживание программы\n",
        "  release(\"server\", amount=1) # Освобождение сервера\n",
        "\n",
        "# Создание окружения симуляции\n",
        "mm.env <- simmer() %>%\n",
        "  add_resource(\"server\", capacity=1, queue_size=Inf) %>% # Создание ресурса \"Сервер\"\n",
        "  add_generator(\"program\", m.queue, function() rexp(1, lambda)) %>% # Создание потока программ\n",
        "  run(until=45000)\n",
        "\n",
        "# Проведение 20 экспериментов\n",
        "mm.envs <- lapply(1:20, function(i) {mm.env})"
      ],
      "metadata": {
        "id": "WcO05m_BAkTg"
      },
      "execution_count": null,
      "outputs": []
    },
    {
      "cell_type": "code",
      "source": [
        "# Cреднее время обслуживания программ\n",
        "programsData <- get_mon_arrivals(mm.envs)\n",
        "mean(programsData$end_time - programsData$start_time)"
      ],
      "metadata": {
        "colab": {
          "base_uri": "https://localhost:8080/",
          "height": 34
        },
        "id": "EeXxHTG6AulG",
        "outputId": "ffbdc839-e5d9-4823-cd28-f93335d22273"
      },
      "execution_count": null,
      "outputs": [
        {
          "output_type": "display_data",
          "data": {
            "text/html": [
              "12.5839000851358"
            ],
            "text/markdown": "12.5839000851358",
            "text/latex": "12.5839000851358",
            "text/plain": [
              "[1] 12.5839"
            ]
          },
          "metadata": {}
        }
      ]
    },
    {
      "cell_type": "markdown",
      "source": [
        "### Алгоритм Shortest-processing-task-first"
      ],
      "metadata": {
        "id": "Cjcpke_MCjhp"
      }
    },
    {
      "cell_type": "code",
      "source": [
        "# Генерация очереди программ\n",
        "set.seed(Variant)\n",
        "n <- 45000 # Размер очереди программ\n",
        "programs <- sample(Q, n, replace = TRUE)\n",
        "head(programs)"
      ],
      "metadata": {
        "colab": {
          "base_uri": "https://localhost:8080/",
          "height": 34
        },
        "id": "lnzsNKpgHALn",
        "outputId": "c921f7a1-4306-4f3e-c2c6-6d19e87f448a"
      },
      "execution_count": null,
      "outputs": [
        {
          "output_type": "display_data",
          "data": {
            "text/html": [
              "<style>\n",
              ".list-inline {list-style: none; margin:0; padding: 0}\n",
              ".list-inline>li {display: inline-block}\n",
              ".list-inline>li:not(:last-child)::after {content: \"\\00b7\"; padding: 0 .5ex}\n",
              "</style>\n",
              "<ol class=list-inline><li>3.58122286827963</li><li>5.0387643470472</li><li>5.0387643470472</li><li>0.521767605518319</li><li>0.48884223215282</li><li>0.48884223215282</li></ol>\n"
            ],
            "text/markdown": "1. 3.58122286827963\n2. 5.0387643470472\n3. 5.0387643470472\n4. 0.521767605518319\n5. 0.48884223215282\n6. 0.48884223215282\n\n\n",
            "text/latex": "\\begin{enumerate*}\n\\item 3.58122286827963\n\\item 5.0387643470472\n\\item 5.0387643470472\n\\item 0.521767605518319\n\\item 0.48884223215282\n\\item 0.48884223215282\n\\end{enumerate*}\n",
            "text/plain": [
              "[1] 3.5812229 5.0387643 5.0387643 0.5217676 0.4888422 0.4888422"
            ]
          },
          "metadata": {}
        }
      ]
    },
    {
      "cell_type": "code",
      "source": [
        "# Сортировка программ по времени выполнения (SRT)\n",
        "programsSorted <- sort(programs)\n",
        "head(programsSorted)"
      ],
      "metadata": {
        "colab": {
          "base_uri": "https://localhost:8080/",
          "height": 34
        },
        "id": "ktpAc1QfH2-S",
        "outputId": "7ab9396d-1a5f-46b1-9b13-9db0e87b9ac9"
      },
      "execution_count": null,
      "outputs": [
        {
          "output_type": "display_data",
          "data": {
            "text/html": [
              "<style>\n",
              ".list-inline {list-style: none; margin:0; padding: 0}\n",
              ".list-inline>li {display: inline-block}\n",
              ".list-inline>li:not(:last-child)::after {content: \"\\00b7\"; padding: 0 .5ex}\n",
              "</style>\n",
              "<ol class=list-inline><li>0.298420601859745</li><li>0.298420601859745</li><li>0.298420601859745</li><li>0.298420601859745</li><li>0.298420601859745</li><li>0.298420601859745</li></ol>\n"
            ],
            "text/markdown": "1. 0.298420601859745\n2. 0.298420601859745\n3. 0.298420601859745\n4. 0.298420601859745\n5. 0.298420601859745\n6. 0.298420601859745\n\n\n",
            "text/latex": "\\begin{enumerate*}\n\\item 0.298420601859745\n\\item 0.298420601859745\n\\item 0.298420601859745\n\\item 0.298420601859745\n\\item 0.298420601859745\n\\item 0.298420601859745\n\\end{enumerate*}\n",
            "text/plain": [
              "[1] 0.2984206 0.2984206 0.2984206 0.2984206 0.2984206 0.2984206"
            ]
          },
          "metadata": {}
        }
      ]
    },
    {
      "cell_type": "code",
      "source": [
        "# Создание и заполнение таблицы времён начала и конца обслуживания каждой программы\n",
        "timeperiods <- data.frame()\n",
        "timeperiods <- rbind(timeperiods, c(0, programsSorted[1]))\n",
        "colnames(timeperiods) <- c(\"start time\", \"end time\")\n",
        "\n",
        "for(i in 2:n)\n",
        "{\n",
        "  timeperiods[i:n, 1] <- timeperiods[i - 1, 1] + programsSorted[i - 1]\n",
        "  timeperiods[i, 2] <- timeperiods[i, 1] + programsSorted[i]\n",
        "}\n",
        "\n",
        "head(timeperiods, 10)"
      ],
      "metadata": {
        "colab": {
          "base_uri": "https://localhost:8080/",
          "height": 412
        },
        "id": "jb2RUYMzJKVW",
        "outputId": "df483cb8-10b6-4a17-c2bb-cd6ae75954cc"
      },
      "execution_count": null,
      "outputs": [
        {
          "output_type": "display_data",
          "data": {
            "text/html": [
              "<table class=\"dataframe\">\n",
              "<caption>A data.frame: 10 × 2</caption>\n",
              "<thead>\n",
              "\t<tr><th></th><th scope=col>start time</th><th scope=col>end time</th></tr>\n",
              "\t<tr><th></th><th scope=col>&lt;dbl&gt;</th><th scope=col>&lt;dbl&gt;</th></tr>\n",
              "</thead>\n",
              "<tbody>\n",
              "\t<tr><th scope=row>1</th><td>0.0000000</td><td>0.2984206</td></tr>\n",
              "\t<tr><th scope=row>2</th><td>0.2984206</td><td>0.5968412</td></tr>\n",
              "\t<tr><th scope=row>3</th><td>0.5968412</td><td>0.8952618</td></tr>\n",
              "\t<tr><th scope=row>4</th><td>0.8952618</td><td>1.1936824</td></tr>\n",
              "\t<tr><th scope=row>5</th><td>1.1936824</td><td>1.4921030</td></tr>\n",
              "\t<tr><th scope=row>6</th><td>1.4921030</td><td>1.7905236</td></tr>\n",
              "\t<tr><th scope=row>7</th><td>1.7905236</td><td>2.0889442</td></tr>\n",
              "\t<tr><th scope=row>8</th><td>2.0889442</td><td>2.3873648</td></tr>\n",
              "\t<tr><th scope=row>9</th><td>2.3873648</td><td>2.6857854</td></tr>\n",
              "\t<tr><th scope=row>10</th><td>2.6857854</td><td>2.9842060</td></tr>\n",
              "</tbody>\n",
              "</table>\n"
            ],
            "text/markdown": "\nA data.frame: 10 × 2\n\n| <!--/--> | start time &lt;dbl&gt; | end time &lt;dbl&gt; |\n|---|---|---|\n| 1 | 0.0000000 | 0.2984206 |\n| 2 | 0.2984206 | 0.5968412 |\n| 3 | 0.5968412 | 0.8952618 |\n| 4 | 0.8952618 | 1.1936824 |\n| 5 | 1.1936824 | 1.4921030 |\n| 6 | 1.4921030 | 1.7905236 |\n| 7 | 1.7905236 | 2.0889442 |\n| 8 | 2.0889442 | 2.3873648 |\n| 9 | 2.3873648 | 2.6857854 |\n| 10 | 2.6857854 | 2.9842060 |\n\n",
            "text/latex": "A data.frame: 10 × 2\n\\begin{tabular}{r|ll}\n  & start time & end time\\\\\n  & <dbl> & <dbl>\\\\\n\\hline\n\t1 & 0.0000000 & 0.2984206\\\\\n\t2 & 0.2984206 & 0.5968412\\\\\n\t3 & 0.5968412 & 0.8952618\\\\\n\t4 & 0.8952618 & 1.1936824\\\\\n\t5 & 1.1936824 & 1.4921030\\\\\n\t6 & 1.4921030 & 1.7905236\\\\\n\t7 & 1.7905236 & 2.0889442\\\\\n\t8 & 2.0889442 & 2.3873648\\\\\n\t9 & 2.3873648 & 2.6857854\\\\\n\t10 & 2.6857854 & 2.9842060\\\\\n\\end{tabular}\n",
            "text/plain": [
              "   start time end time \n",
              "1  0.0000000  0.2984206\n",
              "2  0.2984206  0.5968412\n",
              "3  0.5968412  0.8952618\n",
              "4  0.8952618  1.1936824\n",
              "5  1.1936824  1.4921030\n",
              "6  1.4921030  1.7905236\n",
              "7  1.7905236  2.0889442\n",
              "8  2.0889442  2.3873648\n",
              "9  2.3873648  2.6857854\n",
              "10 2.6857854  2.9842060"
            ]
          },
          "metadata": {}
        }
      ]
    },
    {
      "cell_type": "code",
      "source": [
        "# Cреднее время обслуживания программ по методу SPT\n",
        "Tspt <- sum(timeperiods$`end time` - timeperiods$`start time`)/n\n",
        "Tspt"
      ],
      "metadata": {
        "colab": {
          "base_uri": "https://localhost:8080/",
          "height": 34
        },
        "id": "ttyhd3ftMD0G",
        "outputId": "3167aea9-151f-4800-a035-d8d97bf84857"
      },
      "execution_count": null,
      "outputs": [
        {
          "output_type": "display_data",
          "data": {
            "text/html": [
              "2.89917206410227"
            ],
            "text/markdown": "2.89917206410227",
            "text/latex": "2.89917206410227",
            "text/plain": [
              "[1] 2.899172"
            ]
          },
          "metadata": {}
        }
      ]
    },
    {
      "cell_type": "markdown",
      "source": [
        "Использование алгоритма SPT позволило уменьшить среднее время обслуживания программ в 4 раза, в сравнении с обычным поступлением программ."
      ],
      "metadata": {
        "id": "dGj84FNcObjv"
      }
    },
    {
      "cell_type": "markdown",
      "source": [
        "### Алгоритм Round Robin"
      ],
      "metadata": {
        "id": "AYek_ngDCnet"
      }
    },
    {
      "cell_type": "code",
      "source": [
        "# Создание и заполнение таблицы времён начала и конца обслуживания каждой программы\n",
        "programsRR <- programs\n",
        "timeperiodsRR <- data.frame()\n",
        "\n",
        "if(programsRR[1] > q) { # Обработка первой строки\n",
        "  timeperiodsRR <- rbind(timeperiodsRR, c(0, q))\n",
        "  programsRR <- append(programsRR, programsRR[1] - q)\n",
        "\n",
        "} else {\n",
        "  timeperiodsRR <- rbind(timeperiodsRR, c(0, programsRR[1]))\n",
        "}\n",
        "\n",
        "colnames(timeperiodsRR) <- c(\"start time\", \"end time\")\n",
        "\n",
        "for(i in 2:(round(n*1.5, 0)))\n",
        "{\n",
        "  timeperiodsRR[i, 1] <- timeperiodsRR[i - 1, 2]\n",
        "\n",
        "  if(programsRR[i] > q && !is.na(programsRR[i])) { # Случай больше кванта времени\n",
        "     timeperiodsRR[i, 2] <- timeperiodsRR[i, 1] + q\n",
        "     programsRR <- append(programsRR, programsRR[i] - q)\n",
        "  } else {\n",
        "    timeperiodsRR[i, 2] <- timeperiodsRR[i, 1] + programsRR[i]\n",
        "  }\n",
        "}\n",
        "head(timeperiodsRR, 10)"
      ],
      "metadata": {
        "colab": {
          "base_uri": "https://localhost:8080/",
          "height": 412
        },
        "id": "nK_jrTABSE9k",
        "outputId": "c91ba072-0ca1-47ca-e97f-d03367124717"
      },
      "execution_count": null,
      "outputs": [
        {
          "output_type": "display_data",
          "data": {
            "text/html": [
              "<table class=\"dataframe\">\n",
              "<caption>A data.frame: 10 × 2</caption>\n",
              "<thead>\n",
              "\t<tr><th></th><th scope=col>start time</th><th scope=col>end time</th></tr>\n",
              "\t<tr><th></th><th scope=col>&lt;dbl&gt;</th><th scope=col>&lt;dbl&gt;</th></tr>\n",
              "</thead>\n",
              "<tbody>\n",
              "\t<tr><th scope=row>1</th><td> 0.000000</td><td> 3.000000</td></tr>\n",
              "\t<tr><th scope=row>2</th><td> 3.000000</td><td> 6.000000</td></tr>\n",
              "\t<tr><th scope=row>3</th><td> 6.000000</td><td> 9.000000</td></tr>\n",
              "\t<tr><th scope=row>4</th><td> 9.000000</td><td> 9.521768</td></tr>\n",
              "\t<tr><th scope=row>5</th><td> 9.521768</td><td>10.010610</td></tr>\n",
              "\t<tr><th scope=row>6</th><td>10.010610</td><td>10.499452</td></tr>\n",
              "\t<tr><th scope=row>7</th><td>10.499452</td><td>12.983182</td></tr>\n",
              "\t<tr><th scope=row>8</th><td>12.983182</td><td>15.983182</td></tr>\n",
              "\t<tr><th scope=row>9</th><td>15.983182</td><td>16.472024</td></tr>\n",
              "\t<tr><th scope=row>10</th><td>16.472024</td><td>16.770445</td></tr>\n",
              "</tbody>\n",
              "</table>\n"
            ],
            "text/markdown": "\nA data.frame: 10 × 2\n\n| <!--/--> | start time &lt;dbl&gt; | end time &lt;dbl&gt; |\n|---|---|---|\n| 1 |  0.000000 |  3.000000 |\n| 2 |  3.000000 |  6.000000 |\n| 3 |  6.000000 |  9.000000 |\n| 4 |  9.000000 |  9.521768 |\n| 5 |  9.521768 | 10.010610 |\n| 6 | 10.010610 | 10.499452 |\n| 7 | 10.499452 | 12.983182 |\n| 8 | 12.983182 | 15.983182 |\n| 9 | 15.983182 | 16.472024 |\n| 10 | 16.472024 | 16.770445 |\n\n",
            "text/latex": "A data.frame: 10 × 2\n\\begin{tabular}{r|ll}\n  & start time & end time\\\\\n  & <dbl> & <dbl>\\\\\n\\hline\n\t1 &  0.000000 &  3.000000\\\\\n\t2 &  3.000000 &  6.000000\\\\\n\t3 &  6.000000 &  9.000000\\\\\n\t4 &  9.000000 &  9.521768\\\\\n\t5 &  9.521768 & 10.010610\\\\\n\t6 & 10.010610 & 10.499452\\\\\n\t7 & 10.499452 & 12.983182\\\\\n\t8 & 12.983182 & 15.983182\\\\\n\t9 & 15.983182 & 16.472024\\\\\n\t10 & 16.472024 & 16.770445\\\\\n\\end{tabular}\n",
            "text/plain": [
              "   start time end time \n",
              "1   0.000000   3.000000\n",
              "2   3.000000   6.000000\n",
              "3   6.000000   9.000000\n",
              "4   9.000000   9.521768\n",
              "5   9.521768  10.010610\n",
              "6  10.010610  10.499452\n",
              "7  10.499452  12.983182\n",
              "8  12.983182  15.983182\n",
              "9  15.983182  16.472024\n",
              "10 16.472024  16.770445"
            ]
          },
          "metadata": {}
        }
      ]
    },
    {
      "cell_type": "code",
      "source": [
        "# Размер таблицы до начала NA\n",
        "lengthNotNA <- min(length(timeperiodsRR$`end time`[!is.na(timeperiodsRR$`end time`)]), \n",
        "length(timeperiodsRR$`start time`[!is.na(timeperiodsRR$`start time`)]))\n",
        "lengthNotNA"
      ],
      "metadata": {
        "colab": {
          "base_uri": "https://localhost:8080/",
          "height": 34
        },
        "id": "WUqVgUSiZ68M",
        "outputId": "24ee08ec-d9c1-4d7e-ec7e-64b7532c3faf"
      },
      "execution_count": null,
      "outputs": [
        {
          "output_type": "display_data",
          "data": {
            "text/html": [
              "67484"
            ],
            "text/markdown": "67484",
            "text/latex": "67484",
            "text/plain": [
              "[1] 67484"
            ]
          },
          "metadata": {}
        }
      ]
    },
    {
      "cell_type": "code",
      "source": [
        "# Cреднее время обслуживания программ по методу RR\n",
        "Trr <- sum(timeperiodsRR$`end time`[1:lengthNotNA] - timeperiodsRR$`start time`[1:lengthNotNA])/n\n",
        "Trr"
      ],
      "metadata": {
        "colab": {
          "base_uri": "https://localhost:8080/",
          "height": 34
        },
        "id": "kZJhYD5VaR2L",
        "outputId": "24a91afb-ccb5-45b6-e3a4-f5950f00c579"
      },
      "execution_count": null,
      "outputs": [
        {
          "output_type": "display_data",
          "data": {
            "text/html": [
              "2.89917206410162"
            ],
            "text/markdown": "2.89917206410162",
            "text/latex": "2.89917206410162",
            "text/plain": [
              "[1] 2.899172"
            ]
          },
          "metadata": {}
        }
      ]
    },
    {
      "cell_type": "markdown",
      "source": [
        "Среднее время обслуживания программ по алгоритму RR с квантом времени 3 совпалов с аналогичным, полученным с помощью алгоритма SPT"
      ],
      "metadata": {
        "id": "rd_iXe8GdHZg"
      }
    },
    {
      "cell_type": "markdown",
      "source": [
        "Теперь проверим как влияет значение кванта времени на среднее время обслуживания"
      ],
      "metadata": {
        "id": "i2kOwdWJdcmk"
      }
    },
    {
      "cell_type": "code",
      "source": [
        "# Функция расчёта среднего времени ожидания при заданных кванте времени и длине очереди программ\n",
        "estimatetimeQ <- function(quant, size)\n",
        "{\n",
        "  programsRR <- programs[1:size]\n",
        "  timeperiodsRR <- data.frame()\n",
        "\n",
        "  if(programsRR[1] > quant) { # Обработка первой строки\n",
        "    timeperiodsRR <- rbind(timeperiodsRR, c(0, quant))\n",
        "    programsRR <- append(programsRR, programsRR[1] - quant)\n",
        "\n",
        "  } else {\n",
        "    timeperiodsRR <- rbind(timeperiodsRR, c(0, programsRR[1]))\n",
        "  }\n",
        "\n",
        "  colnames(timeperiodsRR) <- c(\"start time\", \"end time\")\n",
        "\n",
        "  for(i in 2:(round(size*4, 0)))\n",
        "  {\n",
        "    timeperiodsRR[i, 1] <- timeperiodsRR[i - 1, 2]\n",
        "\n",
        "    if(programsRR[i] > quant && !is.na(programsRR[i])) { # Случай больше кванта времени\n",
        "      timeperiodsRR[i, 2] <- timeperiodsRR[i, 1] + quant\n",
        "      programsRR <- append(programsRR, programsRR[i] - quant)\n",
        "    } else {\n",
        "      timeperiodsRR[i, 2] <- timeperiodsRR[i, 1] + programsRR[i]\n",
        "    }\n",
        "  }\n",
        "\n",
        "  # Размер таблицы до начала NA\n",
        "  lengthNotNA <- min(length(timeperiodsRR$`end time`[!is.na(timeperiodsRR$`end time`)]), \n",
        "  length(timeperiodsRR$`start time`[!is.na(timeperiodsRR$`start time`)]))\n",
        "  # Cреднее время обслуживания программ по методу RR\n",
        "  Trr <- sum(timeperiodsRR$`end time`[1:lengthNotNA] - timeperiodsRR$`start time`[1:lengthNotNA])/size\n",
        "\n",
        "  return(Trr)\n",
        "}"
      ],
      "metadata": {
        "id": "Xm2wzkv6dkRr"
      },
      "execution_count": null,
      "outputs": []
    },
    {
      "cell_type": "code",
      "source": [
        "# Получение значений для графика\n",
        "qVect <- c(1:6)\n",
        "size <- 45000\n",
        "\n",
        "Tseries <-c()\n",
        "\n",
        "for(i in qVect) Tseries <- append(Tseries, estimatetimeQ(i, size))"
      ],
      "metadata": {
        "id": "byN1SOgNeRNu"
      },
      "execution_count": null,
      "outputs": []
    },
    {
      "cell_type": "code",
      "source": [
        "# График зависимости среднего времени ожидания от кванта времени q\n",
        "plot(qVect, Tseries, xlab = \"Значение кванта времени\", ylab = \"Cреднее время обслуживания программ\", type = \"o\")"
      ],
      "metadata": {
        "colab": {
          "base_uri": "https://localhost:8080/",
          "height": 437
        },
        "id": "TVMQunNHfYMg",
        "outputId": "c795b325-4b3e-458a-ae13-8d3cb0647e0d"
      },
      "execution_count": null,
      "outputs": [
        {
          "output_type": "display_data",
          "data": {
            "text/plain": [
              "plot without title"
            ],
            "image/png": "[encoded data removed]"
          },
          "metadata": {
            "image/png": {
              "width": 420,
              "height": 420
            }
          }
        }
      ]
    },
    {
      "cell_type": "markdown",
      "source": [
        "Как видно из графика лучше время ожидания при кванте времени равным 3. Однако, стоит подметить, что разница среднего времени обслуживания с разными квантами времени в данном случае очень невелика."
      ],
      "metadata": {
        "id": "l5g_E0xtzt3T"
      }
    }
  ]
}