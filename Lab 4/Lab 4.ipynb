{
  "nbformat": 4,
  "nbformat_minor": 0,
  "metadata": {
    "colab": {
      "provenance": []
    },
    "kernelspec": {
      "name": "ir",
      "display_name": "R"
    },
    "language_info": {
      "name": "R"
    }
  },
  "cells": [
    {
      "cell_type": "markdown",
      "source": [
        "# Лабораторная работа 4. Модель однофазной многоканальной замкнутой системы обслуживания\n",
        "\n",
        "## Вариант 2\n",
        "\n",
        "##### Выполнил: Борисочкин М. И. РТ5-81Б"
      ],
      "metadata": {
        "id": "gEy2KCoOI_tz"
      }
    },
    {
      "cell_type": "code",
      "execution_count": null,
      "metadata": {
        "colab": {
          "base_uri": "https://localhost:8080/",
          "height": 129
        },
        "id": "_J9zP2uWI7li",
        "outputId": "7acc8f89-1b4d-4de0-f99f-9157e18e32fa"
      },
      "outputs": [
        {
          "output_type": "display_data",
          "data": {
            "text/plain": [
              "  k  m t1 t2\n",
              "1 14 5 19 3 "
            ],
            "text/html": [
              "<table class=\"dataframe\">\n",
              "<caption>A data.frame: 1 × 4</caption>\n",
              "<thead>\n",
              "\t<tr><th scope=col>k</th><th scope=col>m</th><th scope=col>t1</th><th scope=col>t2</th></tr>\n",
              "\t<tr><th scope=col>&lt;int&gt;</th><th scope=col>&lt;int&gt;</th><th scope=col>&lt;int&gt;</th><th scope=col>&lt;int&gt;</th></tr>\n",
              "</thead>\n",
              "<tbody>\n",
              "\t<tr><td>14</td><td>5</td><td>19</td><td>3</td></tr>\n",
              "</tbody>\n",
              "</table>\n"
            ],
            "text/markdown": "\nA data.frame: 1 × 4\n\n| k &lt;int&gt; | m &lt;int&gt; | t1 &lt;int&gt; | t2 &lt;int&gt; |\n|---|---|---|---|\n| 14 | 5 | 19 | 3 |\n\n",
            "text/latex": "A data.frame: 1 × 4\n\\begin{tabular}{llll}\n k & m & t1 & t2\\\\\n <int> & <int> & <int> & <int>\\\\\n\\hline\n\t 14 & 5 & 19 & 3\\\\\n\\end{tabular}\n"
          },
          "metadata": {}
        }
      ],
      "source": [
        "# Генерация начальных условий\n",
        "Variant <- 2\n",
        "set.seed(Variant) \n",
        "k <- sample(c(10:25), 1)\n",
        "m <- sample(c(3:6), 1)\n",
        "t1 <- sample(c(14:20), 1)\n",
        "t2 <- sample(c(2:5), 1)\n",
        "View(data.frame(k, m, t1, t2))"
      ]
    },
    {
      "cell_type": "markdown",
      "source": [
        "### Теоритическое решение"
      ],
      "metadata": {
        "id": "aDoIa2JzQ6-_"
      }
    },
    {
      "cell_type": "markdown",
      "source": [
        "С помощью формулы (25) из лекции 3 была выведена следующая формула вероятности пребывания в состоянии $S_0$:\n",
        "\n",
        "$\n",
        "P_0 = (∑_{i = 0}^m \\frac{k! ⋅ y^i}{(k - i)! ⋅ i!} + ∑_{i = 1}^{k - m} \\frac{k! ⋅ y^{m + i}}{(k - m - i)! ⋅ m!m^i})^{-1}\n",
        "$\n",
        ", где $ y = \\fracλμ = \\frac{\\frac{1}{t_1}}{\\frac{1}{t_2}} = \\frac{t_2}{t_1}$"
      ],
      "metadata": {
        "id": "Ja0kHE1cQ_bH"
      }
    },
    {
      "cell_type": "code",
      "source": [
        "# Вероятность, что вычислительный сервер будет свободен\n",
        "y <- (1/t1)/(1/t2)\n",
        "\n",
        "# Левая половина уравнения\n",
        "i <- c(0:m)\n",
        "p0left <- c((factorial(k)*y^i)/(factorial(k - i) * factorial(i)))\n",
        "p0left <-sum(p0left)\n",
        "\n",
        "# Правая половина уравнения\n",
        "i <- c(1:(k - m))\n",
        "p0right <- c((factorial(k)*y^(m + i))/(factorial(k - m - i) * factorial(m) * m^i))\n",
        "p0right <- sum(p0right)\n",
        "\n",
        "# Финальное выражение\n",
        "p0 <- (p0left + p0right)^-1"
      ],
      "metadata": {
        "id": "NGom21ULQ5pq"
      },
      "execution_count": null,
      "outputs": []
    },
    {
      "cell_type": "markdown",
      "source": [
        "Теперь расчитаем остальные вероятности, когда программа будет выполнена сразу же, как только она поступила на терминал: $P_1, P_2, P_3, P_4$\n",
        "\n",
        "$\n",
        "P_1 = \\frac{kλ}{1!⋅μ}P_0 = ky ⋅ P_0;\n",
        "\\\\ P_2 = \\frac{k(k - 1)λ^2}{2!⋅μ^2}P_0 = \\frac{k(k - 1)y^2}{2} ⋅ P_0;\n",
        "\\\\ P_3 = \\frac{k(k - 1)(k - 2)λ^3}{3!⋅μ^3}P_0 = \\frac{k(k - 1)(k -2 )y^3}{6} ⋅ P_0;\n",
        "\\\\ P_4 = \\frac{k(k - 1)(k - 2)(k - 3)λ^4}{4!⋅μ^4}P_0 = \\frac{k(k - 1)(k - 2)(k - 3)y^4}{24} ⋅ P_0.\n",
        "$"
      ],
      "metadata": {
        "id": "LpBwWJu7FGUF"
      }
    },
    {
      "cell_type": "code",
      "source": [
        "# Вероятности состояний до образования очереди (кроме p0)\n",
        "i <- c(1:m)\n",
        "pWorking <- c((factorial(k)*y^i)/(factorial(k - i) * factorial(i)) * p0)"
      ],
      "metadata": {
        "id": "AMkj8nVGGxaG"
      },
      "execution_count": null,
      "outputs": []
    },
    {
      "cell_type": "code",
      "source": [
        "# Вероятность того, что программа не будет выполнена сразу же, как только она поступила на терминал\n",
        "1 - (p0 + sum(pWorking[1:4]))"
      ],
      "metadata": {
        "colab": {
          "base_uri": "https://localhost:8080/",
          "height": 34
        },
        "id": "KuAAjDsOZBw9",
        "outputId": "e08e4676-bbc2-41a7-c00b-83d0f6e27553"
      },
      "execution_count": null,
      "outputs": [
        {
          "output_type": "display_data",
          "data": {
            "text/html": [
              "0.0346255664718027"
            ],
            "text/markdown": "0.0346255664718027",
            "text/latex": "0.0346255664718027",
            "text/plain": [
              "[1] 0.03462557"
            ]
          },
          "metadata": {}
        }
      ]
    },
    {
      "cell_type": "code",
      "source": [
        "# Вероятности состояний образования очереди\n",
        "i <- c(1:(k - m))\n",
        "pQueue <- c((factorial(k)*y^(m + i))/(factorial(k - m - i) * factorial(m) * m^i)*p0)"
      ],
      "metadata": {
        "id": "QocAMSFNJDiz"
      },
      "execution_count": null,
      "outputs": []
    },
    {
      "cell_type": "markdown",
      "source": [
        "Для расчёта среднего времени до получения пользователем результатов реализации используем величину $T_{сист}$:\n",
        "\n",
        "$\n",
        "T_{сист} = \\frac{L_{сист}}{Λ} = \\frac{L_{сист}}{(k - L_{сист})λ}, где \\ L_{сист} = ∑_{i = 1}^k i⋅ P_i\n",
        "$"
      ],
      "metadata": {
        "id": "IUFfWYVoao75"
      }
    },
    {
      "cell_type": "code",
      "source": [
        "# Среднее время до получения пользователем результатов реализации\n",
        "i <- c(1:k)\n",
        "Lsys <- sum(pWorking*i[1:m]) + sum(pQueue*i[(m + 1) : k])\n",
        "Tsys <- Lsys/((k - Lsys)*(1/t1))\n",
        "Tsys"
      ],
      "metadata": {
        "colab": {
          "base_uri": "https://localhost:8080/",
          "height": 34
        },
        "id": "03uV7n4yVuXi",
        "outputId": "9ff271c4-b234-4164-ebe8-d845d2d9428e"
      },
      "execution_count": null,
      "outputs": [
        {
          "output_type": "display_data",
          "data": {
            "text/html": [
              "3.01941055468485"
            ],
            "text/markdown": "3.01941055468485",
            "text/latex": "3.01941055468485",
            "text/plain": [
              "[1] 3.019411"
            ]
          },
          "metadata": {}
        }
      ]
    },
    {
      "cell_type": "markdown",
      "source": [
        "Для расчёта среднего количества программ, ожидающих выполнения на сервере воспользуемся величиной $L_{оч}$:\n",
        "\n",
        "$\n",
        "L_{оч} = ∑_{i = 1}^∞ i ⋅ P_{m + i} = ∑_{i = 1}^{k - m} i ⋅ P_{m + i} = ∑_{i = 1}^{9} i ⋅ P_{5 + i}\n",
        "$"
      ],
      "metadata": {
        "id": "ZYp1GZ8rSeIn"
      }
    },
    {
      "cell_type": "code",
      "source": [
        "# Среднее количество программ, ожидающих выполнения на сервере\n",
        "Lqueue <- sum(i*pQueue)\n",
        "Lqueue"
      ],
      "metadata": {
        "colab": {
          "base_uri": "https://localhost:8080/",
          "height": 34
        },
        "id": "Kg2dl8erSc7V",
        "outputId": "0e25bd59-4e67-4e39-986f-6fcd057d22ac"
      },
      "execution_count": null,
      "outputs": [
        {
          "output_type": "display_data",
          "data": {
            "text/html": [
              "0.0123412824749815"
            ],
            "text/markdown": "0.0123412824749815",
            "text/latex": "0.0123412824749815",
            "text/plain": [
              "[1] 0.01234128"
            ]
          },
          "metadata": {}
        }
      ]
    },
    {
      "cell_type": "markdown",
      "source": [
        "### Эксперементальное решение"
      ],
      "metadata": {
        "id": "696uBdGrc6cN"
      }
    },
    {
      "cell_type": "code",
      "source": [
        "# Установка библиотеки\n",
        "install.packages(\"simmer\", dependencies = TRUE)"
      ],
      "metadata": {
        "colab": {
          "base_uri": "https://localhost:8080/"
        },
        "id": "-0lwLSRqc_xr",
        "outputId": "6eff6a46-16f5-486f-da9a-def75fc232d4"
      },
      "execution_count": null,
      "outputs": [
        {
          "output_type": "stream",
          "name": "stderr",
          "text": [
            "Installing package into ‘/usr/local/lib/R/site-library’\n",
            "(as ‘lib’ is unspecified)\n",
            "\n",
            "Warning message in install.packages(\"simmer\", dependencies = TRUE):\n",
            "“installation of package ‘simmer’ had non-zero exit status”\n"
          ]
        }
      ]
    },
    {
      "cell_type": "code",
      "source": [
        "# Подключение библиотеки\n",
        "library(\"simmer\")"
      ],
      "metadata": {
        "id": "t0bLhrAGdMWg"
      },
      "execution_count": null,
      "outputs": []
    },
    {
      "cell_type": "code",
      "source": [
        "set.seed(Variant)\n",
        "\n",
        "# Создание траектории программ\n",
        "m.queue <- trajectory() %>%\n",
        "  seize(\"server\", amount=1) %>% # Занятие сервера\n",
        "  timeout(function() rexp(1, 1/t2)) %>% # Обслуживание программы\n",
        "  release(\"server\", amount=1)# Освобождение сервера\n",
        "\n",
        "# Создание окружения симуляции\n",
        "mm.env <- simmer() %>%\n",
        "  add_resource(\"server\", capacity=m, queue_size=Inf) %>% # Создание ресурса \"Сервер\"\n",
        "  add_generator(\"program\", m.queue, function() rexp(1, (k - get_server_count(mm.env, \"server\") - get_queue_count(mm.env, \"server\"))/t1)) %>% # Создание потока программ\n",
        "  run(until=800000)\n",
        "\n",
        "# Проведение 50 экспериментов\n",
        "mm.envs <- lapply(1:50, function(i) {mm.env})"
      ],
      "metadata": {
        "id": "9JgHVYBvdM70"
      },
      "execution_count": null,
      "outputs": []
    },
    {
      "cell_type": "code",
      "source": [
        "# Вероятность того, что программа не будет выполнена сразу же,\n",
        "# как только она поступила на терминал\n",
        "serverData <- get_mon_resources(mm.envs)\n",
        "sum(serverData$server == m)/length(serverData$server)"
      ],
      "metadata": {
        "colab": {
          "base_uri": "https://localhost:8080/",
          "height": 34
        },
        "id": "lwgCATKxiXg0",
        "outputId": "5714311c-a3a3-4555-9c90-41145b0ebf3e"
      },
      "execution_count": null,
      "outputs": [
        {
          "output_type": "display_data",
          "data": {
            "text/html": [
              "0.0513557598158338"
            ],
            "text/markdown": "0.0513557598158338",
            "text/latex": "0.0513557598158338",
            "text/plain": [
              "[1] 0.05135576"
            ]
          },
          "metadata": {}
        }
      ]
    },
    {
      "cell_type": "code",
      "source": [
        "# Cреднее время до получения пользователем результатов реализации\n",
        "programsData <- get_mon_arrivals(mm.envs)\n",
        "mean(programsData$end_time - programsData$start_time)"
      ],
      "metadata": {
        "colab": {
          "base_uri": "https://localhost:8080/",
          "height": 34
        },
        "id": "CDt3rDPTn02-",
        "outputId": "32727fe0-100e-4dcf-b408-689986fee8ce"
      },
      "execution_count": null,
      "outputs": [
        {
          "output_type": "display_data",
          "data": {
            "text/html": [
              "3.01992356731472"
            ],
            "text/markdown": "3.01992356731472",
            "text/latex": "3.01992356731472",
            "text/plain": [
              "[1] 3.019924"
            ]
          },
          "metadata": {}
        }
      ]
    },
    {
      "cell_type": "code",
      "source": [
        "# Среднее количество программ, ожидающих выполнения на сервере\n",
        "mean(serverData$queue)"
      ],
      "metadata": {
        "colab": {
          "base_uri": "https://localhost:8080/",
          "height": 34
        },
        "id": "QBwMBjCEn39L",
        "outputId": "d20f3afa-3f81-40d9-99a8-97320a01df9d"
      },
      "execution_count": null,
      "outputs": [
        {
          "output_type": "display_data",
          "data": {
            "text/html": [
              "0.0229188251108956"
            ],
            "text/markdown": "0.0229188251108956",
            "text/latex": "0.0229188251108956",
            "text/plain": [
              "[1] 0.02291883"
            ]
          },
          "metadata": {}
        }
      ]
    },
    {
      "cell_type": "markdown",
      "source": [
        "## Случай m = 1"
      ],
      "metadata": {
        "id": "szI9DQ3gvMuX"
      }
    },
    {
      "cell_type": "code",
      "source": [
        "# Начальные условия\n",
        "m <- 1\n",
        "lambda <- 1/t1\n",
        "mu <- 1/t2\n",
        "y <- lambda/mu"
      ],
      "metadata": {
        "id": "giswQmU4vb1r"
      },
      "execution_count": null,
      "outputs": []
    },
    {
      "cell_type": "markdown",
      "source": [
        "### Теоритическая часть"
      ],
      "metadata": {
        "id": "PI7i72OwvVZy"
      }
    },
    {
      "cell_type": "markdown",
      "source": [
        "Для расчёта требуемых значений воспользуемя формулами (5), (8), (9) и (11) из лекции 4"
      ],
      "metadata": {
        "id": "kPiJ4BXGwBWJ"
      }
    },
    {
      "cell_type": "code",
      "source": [
        "# Вероятность того, что программа не будет выполнена сразу же, как только она поступила на терминал\n",
        "i <- (1:k)\n",
        "p0 <- (sum(factorial(k)*y^i/factorial(k - i)))^-1\n",
        "\n",
        "1 - p0"
      ],
      "metadata": {
        "colab": {
          "base_uri": "https://localhost:8080/",
          "height": 34
        },
        "id": "Fv1UjE90wYPU",
        "outputId": "210f1eee-d813-4f73-e733-83c3f41dc56f"
      },
      "execution_count": null,
      "outputs": [
        {
          "output_type": "display_data",
          "data": {
            "text/html": [
              "0.996576981988872"
            ],
            "text/markdown": "0.996576981988872",
            "text/latex": "0.996576981988872",
            "text/plain": [
              "[1] 0.996577"
            ]
          },
          "metadata": {}
        }
      ]
    },
    {
      "cell_type": "code",
      "source": [
        "# Среднее время до получения пользователем результатов реализации\n",
        "Lsys <- k - (1 - p0) * 1/y\n",
        "Tsys <- Lsys/((k - Lsys)*lambda)\n",
        "Tsys"
      ],
      "metadata": {
        "colab": {
          "base_uri": "https://localhost:8080/",
          "height": 34
        },
        "id": "Iaw0sbApxMCO",
        "outputId": "886f1156-2750-4d4e-c90e-50e309c29814"
      },
      "execution_count": null,
      "outputs": [
        {
          "output_type": "display_data",
          "data": {
            "text/html": [
              "23.1442605629727"
            ],
            "text/markdown": "23.1442605629727",
            "text/latex": "23.1442605629727",
            "text/plain": [
              "[1] 23.14426"
            ]
          },
          "metadata": {}
        }
      ]
    },
    {
      "cell_type": "code",
      "source": [
        "# Среднее количество программ, ожидающих выполнения на сервере\n",
        "Lqueue <- Lsys - ((k - Lsys)*lambda)/mu\n",
        "Lqueue"
      ],
      "metadata": {
        "colab": {
          "base_uri": "https://localhost:8080/",
          "height": 34
        },
        "id": "tpaOiclMxiNP",
        "outputId": "40cdf05e-99aa-4f31-a253-6156853a2d2d"
      },
      "execution_count": null,
      "outputs": [
        {
          "output_type": "display_data",
          "data": {
            "text/html": [
              "13.8178003301627"
            ],
            "text/markdown": "13.8178003301627",
            "text/latex": "13.8178003301627",
            "text/plain": [
              "[1] 13.8178"
            ]
          },
          "metadata": {}
        }
      ]
    },
    {
      "cell_type": "markdown",
      "source": [
        "### Эксперементальная часть"
      ],
      "metadata": {
        "id": "7ktjPh7wvctF"
      }
    },
    {
      "cell_type": "code",
      "source": [
        "set.seed(Variant)\n",
        "\n",
        "# Создание траектории программ\n",
        "m.queue <- trajectory() %>%\n",
        "  seize(\"server\", amount=1) %>% # Занятие сервера\n",
        "  timeout(function() rexp(1, mu)) %>% # Обслуживание программы\n",
        "  release(\"server\", amount=1)# Освобождение сервера\n",
        "\n",
        "# Создание окружения симуляции\n",
        "mm.env <- simmer() %>%\n",
        "  add_resource(\"server\", capacity=1, queue_size=k-1) %>% # Создание ресурса \"Сервер\"\n",
        "  add_generator(\"program\", m.queue, function() rexp(1, (k  - get_server_count(mm.env, \"server\") - get_queue_count(mm.env, \"server\"))*lambda)) %>% # Создание потока программ\n",
        "  run(until=800000)\n",
        "\n",
        "# Проведение 50 экспериментов\n",
        "mm.envs <- lapply(1:50, function(i) {mm.env})"
      ],
      "metadata": {
        "id": "mi3hg-sGxyoD"
      },
      "execution_count": null,
      "outputs": []
    },
    {
      "cell_type": "code",
      "source": [
        "# Вероятность того, что программа не будет выполнена сразу же,\n",
        "# как только она поступила на терминал\n",
        "serverData <- get_mon_resources(mm.envs)\n",
        "sum(serverData$server == m)/length(serverData$server)"
      ],
      "metadata": {
        "colab": {
          "base_uri": "https://localhost:8080/",
          "height": 34
        },
        "id": "pizdIu9lxz7I",
        "outputId": "0e2dc7a8-8ac9-4bb6-c1d1-1fae1f40a168"
      },
      "execution_count": null,
      "outputs": [
        {
          "output_type": "display_data",
          "data": {
            "text/html": [
              "0.999977525143745"
            ],
            "text/markdown": "0.999977525143745",
            "text/latex": "0.999977525143745",
            "text/plain": [
              "[1] 0.9999775"
            ]
          },
          "metadata": {}
        }
      ]
    },
    {
      "cell_type": "code",
      "source": [
        "# Cреднее время до получения пользователем результатов реализации\n",
        "programsData <- get_mon_arrivals(mm.envs)\n",
        "mean(programsData$end_time - programsData$start_time)"
      ],
      "metadata": {
        "colab": {
          "base_uri": "https://localhost:8080/",
          "height": 34
        },
        "id": "9KxOtL5zx2V_",
        "outputId": "427d8644-e150-434a-ed77-350baf787998"
      },
      "execution_count": null,
      "outputs": [
        {
          "output_type": "display_data",
          "data": {
            "text/html": [
              "17.8539545650891"
            ],
            "text/markdown": "17.8539545650891",
            "text/latex": "17.8539545650891",
            "text/plain": [
              "[1] 17.85395"
            ]
          },
          "metadata": {}
        }
      ]
    },
    {
      "cell_type": "code",
      "source": [
        "# Среднее количество программ, ожидающих выполнения на сервере\n",
        "mean(serverData$queue)"
      ],
      "metadata": {
        "colab": {
          "base_uri": "https://localhost:8080/",
          "height": 34
        },
        "id": "oxJI4HLTx4q-",
        "outputId": "cc58cc89-f97f-4f40-cbda-20a883d1d7f5"
      },
      "execution_count": null,
      "outputs": [
        {
          "output_type": "display_data",
          "data": {
            "text/html": [
              "11.6661715955275"
            ],
            "text/markdown": "11.6661715955275",
            "text/latex": "11.6661715955275",
            "text/plain": [
              "[1] 11.66617"
            ]
          },
          "metadata": {}
        }
      ]
    }
  ]
}